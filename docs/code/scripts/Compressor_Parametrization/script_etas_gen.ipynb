{
 "cells": [
  {
   "cell_type": "markdown",
   "source": [
    "# Tutorial-Compressor efficiency map generation\n",
    "\n",
    "This tutorial explains the steps to be followed to generate the series of compressor\n",
    "efficiency ('eta_s') values for the design point data of a particular heat pump model.\n",
    "In this example, the data for \"Air_30kW\" model has been used.\n"
   ],
   "metadata": {
    "collapsed": false,
    "pycharm": {
     "name": "#%% md\n"
    }
   }
  },
  {
   "cell_type": "markdown",
   "source": [
    "### Parametrizing the model for the nominal capacity data\n",
    "\n",
    "Following the advice given in the documentation, the different components of the network\n",
    "have to be parametrized such that the compressor power calculated by the model matches that\n",
    "of the data sheet, for the nominal capacity data. For the heat pump model in this example, the\n",
    "heat load is 16.3 kW & the power required is 3.83 kW, at an ambient air temperature of 7 deg. C\n",
    "and heat supply temperature of 35 deg. C.\n",
    "\n",
    "Code: 'Parametrization_NominalData.py'\n",
    "\n",
    "The network solution for this case should be saved as it will be used in the following steps.\n",
    "The network is saved as 'Par_NominalData'.\n"
   ],
   "metadata": {
    "collapsed": false
   }
  },
  {
   "cell_type": "markdown",
   "source": [
    "### Setting up the input data files\n",
    "\n",
    "The data from the heating capacity tables should be available in csv format.\n",
    "The heating capacities (in kW) and power requirement (in kW) at the different evaporator\n",
    "and condenser temperatures should be available as shown in the 'Data\\Heat_Load_Data.csv' and\n",
    "'Data\\PI_Data.csv' respectively. The first row contains the condenser leaving temperatures\n",
    "and the first column contains the ambient temperature. The temperatures are in deg. C.\n"
   ],
   "metadata": {
    "collapsed": false
   }
  },
  {
   "cell_type": "code",
   "execution_count": null,
   "metadata": {
    "collapsed": true
   },
   "outputs": [],
   "source": [
    "from tespy.networks import load_network\n",
    "import pandas as pd\n",
    "import numpy as np\n",
    "from tqdm import tqdm\n",
    "import json"
   ]
  },
  {
   "cell_type": "code",
   "execution_count": null,
   "outputs": [],
   "source": [
    "# import the saved network with the initial parametrization data\n",
    "\n",
    "imported_plant = load_network('.\\Par_NominalData')\n",
    "# imported_plant.solve('design')\n",
    "# imported_plant.print_results()"
   ],
   "metadata": {
    "collapsed": false,
    "pycharm": {
     "name": "#%%\n"
    }
   }
  },
  {
   "cell_type": "code",
   "execution_count": null,
   "outputs": [],
   "source": [
    "#import the heat load data\n",
    "\n",
    "HL_Data_Path = '.\\Data\\Heat_Load_Data.csv'\n",
    "heat_load_data = pd.read_csv(HL_Data_Path, header=0, delimiter=',')\n",
    "print(heat_load_data)"
   ],
   "metadata": {
    "collapsed": false,
    "pycharm": {
     "name": "#%%\n"
    }
   }
  },
  {
   "cell_type": "code",
   "execution_count": null,
   "outputs": [],
   "source": [
    "#import the power requirement data\n",
    "\n",
    "PI_Data_Path = '.\\Data\\PI_Data.csv'\n",
    "PI_data = pd.read_csv(PI_Data_Path, header=0, delimiter=',')\n",
    "print(PI_data)\n"
   ],
   "metadata": {
    "collapsed": false,
    "pycharm": {
     "name": "#%%\n"
    }
   }
  },
  {
   "cell_type": "code",
   "execution_count": null,
   "outputs": [],
   "source": [
    "# A DataFrame to save the power calculated by the model\n",
    "\n",
    "PI_Data_new= pd.DataFrame().reindex_like(PI_data)\n",
    "PI_Data_new['heat_source_T'] = PI_data['heat_source_T']\n",
    "print( PI_Data_new)"
   ],
   "metadata": {
    "collapsed": false,
    "pycharm": {
     "name": "#%%\n"
    }
   }
  },
  {
   "cell_type": "code",
   "execution_count": null,
   "outputs": [],
   "source": [
    "# The Leaving Water Condenser (LWC) temperatures\n",
    "cols = heat_load_data.columns[1:]\n",
    "print(cols)"
   ],
   "metadata": {
    "collapsed": false,
    "pycharm": {
     "name": "#%%\n"
    }
   }
  },
  {
   "cell_type": "code",
   "execution_count": null,
   "outputs": [],
   "source": [
    "# The range of values for the efficiency of the compressor from which the best\n",
    "# value is chosen\n",
    "etas_list = np.arange(0.25,0.96,0.01)"
   ],
   "metadata": {
    "collapsed": false,
    "pycharm": {
     "name": "#%%\n"
    }
   }
  },
  {
   "cell_type": "code",
   "execution_count": null,
   "outputs": [],
   "source": [
    "# A DataFrame to save the best efficiency values identified for each design point\n",
    "etas_data = pd.DataFrame().reindex_like(heat_load_data)\n",
    "etas_data['heat_source_T'] = heat_load_data['heat_source_T']\n",
    "print(etas_data)"
   ],
   "metadata": {
    "collapsed": false,
    "pycharm": {
     "name": "#%%\n"
    }
   }
  },
  {
   "cell_type": "code",
   "execution_count": null,
   "outputs": [],
   "source": [
    "total = len(etas_data.index) * len(cols)"
   ],
   "metadata": {
    "collapsed": false,
    "pycharm": {
     "name": "#%%\n"
    }
   }
  },
  {
   "cell_type": "code",
   "execution_count": null,
   "outputs": [],
   "source": [
    "pbar = tqdm(total=total)\n",
    "for i in range(len(etas_data.index)):\n",
    "    heat_source_T = heat_load_data['heat_source_T'][i] # The ambient temperature temperature\n",
    "    k = 30 # index for moving within etas_list\n",
    "    for j in cols:\n",
    "        LWC = float(j) # The Leaving Water Condenser (LWC) temperature\n",
    "        HL = float(heat_load_data[j][i]*1000) # Heat Load in W\n",
    "\n",
    "        l=1\n",
    "        if  not np.isnan(HL):\n",
    "            # print ('row: %d , column: %s'%(i,j))\n",
    "            # The display of iteration info during network solving is turned off\n",
    "            imported_plant.set_attr(iterinfo=False)\n",
    "\n",
    "            # A temperature difference of 5 deg.C is assumed across the condenser\n",
    "            imported_plant.get_conn('condenser:out2_consumer:in1').T.val= LWC\n",
    "            imported_plant.get_conn('consumer cycle closer:out1_condenser recirculation pump:in1').T.val =LWC-5\n",
    "\n",
    "            # A temperature difference of 5 deg.C is assumed across the evaporator\n",
    "            imported_plant.get_conn('source ambient:out1_ambient pump:in1').T.val=heat_source_T\n",
    "            imported_plant.get_conn('evaporator:out1_sink ambient:in1').T.val= heat_source_T - 5\n",
    "\n",
    "            # The heat load is set\n",
    "            imported_plant.get_comp('consumer').set_attr(Q=-HL)\n",
    "\n",
    "            # print(\"row: %d, column: %s\" %(i,j))\n",
    "\n",
    "            # The efficiency value for the compressor that gives the power closest\n",
    "            # to the power from the data sheet is found\n",
    "            while 0 <= k < len(etas_list):\n",
    "\n",
    "                imported_plant.get_comp('compressor').eta_s.val = etas_list[k]\n",
    "                imported_plant.solve('design')\n",
    "\n",
    "                P_new = imported_plant.get_comp('compressor').P.val/1000\n",
    "\n",
    "                P_new_dif = P_new - PI_data.loc[i, j]\n",
    "\n",
    "                if abs(P_new_dif) > 0.15 or k==(len(etas_list) - 1):\n",
    "\n",
    "                    if P_new_dif < 0:\n",
    "                        k -= 1\n",
    "                    elif k == (len(etas_list) - 1):\n",
    "                        PI_Data_new.loc[i,j] = P_new\n",
    "                        etas_data.loc[i,j] = etas_list[k]\n",
    "                        break\n",
    "                    else:\n",
    "                        k += 1\n",
    "\n",
    "                elif abs(P_new_dif) <= 0.15 and P_new_dif < 0:\n",
    "                    # print(\"entering 2nd condition: %d time\" %l)\n",
    "                    k -= 1\n",
    "                    P_old = P_new\n",
    "                    P_old_dif = P_new_dif\n",
    "                    # print(P_old, P_old_dif)\n",
    "                    imported_plant.get_comp('compressor').eta_s.val = etas_list[k]\n",
    "                    imported_plant.solve('design')\n",
    "                    P_new = imported_plant.get_comp('compressor').P.val/1000\n",
    "                    P_new_dif = P_new - PI_data.loc[i, j]\n",
    "                    # print(P_new, P_new_dif)\n",
    "                    if round(abs(P_new_dif),2) <= round(abs(P_old_dif),2):\n",
    "                        # print(\"entering 2-1 condition\")\n",
    "                        PI_Data_new.loc[i,j] = P_new\n",
    "                        etas_data.loc[i,j] = etas_list[k]\n",
    "                    else:\n",
    "                        # print(\"entering 2-2 condition\")\n",
    "                        k += 1\n",
    "                        PI_Data_new.loc[i,j] = P_old\n",
    "                        etas_data.loc[i,j] = etas_list[k]\n",
    "                    # print(PI_Data_new[j][i], etas_data[j][i])\n",
    "                    break\n",
    "\n",
    "                elif abs(P_new_dif)<=0.15 and P_new_dif > 0:\n",
    "                    # print(\"entering 3rd condition: %d time\" %l)\n",
    "                    k += 1\n",
    "                    P_old = P_new\n",
    "                    P_old_dif = P_new_dif\n",
    "                    imported_plant.get_comp('compressor').eta_s.val = etas_list[k]\n",
    "                    imported_plant.solve('design')\n",
    "                    P_new = imported_plant.get_comp('compressor').P.val/1000\n",
    "                    P_new_dif = P_new - PI_data.loc[i,j]\n",
    "                    if round(abs(P_new_dif),2) < round(abs(P_old_dif),2):\n",
    "                        PI_Data_new.loc[i,j] = P_new\n",
    "                        etas_data.loc[i,j] = etas_list[k]\n",
    "                    else:\n",
    "                        k -= 1\n",
    "                        PI_Data_new.loc[i,j] = P_old\n",
    "                        etas_data.loc[i,j] = etas_list[k]\n",
    "                    # print(PI_Data_new[j][i], etas_data[j][i])\n",
    "                    break\n",
    "\n",
    "        else:\n",
    "            etas_data.loc[i,j] = np.nan\n",
    "\n",
    "        pbar.update()\n",
    "\n",
    "pbar.close()"
   ],
   "metadata": {
    "collapsed": false,
    "pycharm": {
     "name": "#%%\n"
    }
   }
  },
  {
   "cell_type": "code",
   "execution_count": null,
   "outputs": [],
   "source": [
    "print(etas_data)\n"
   ],
   "metadata": {
    "collapsed": false,
    "pycharm": {
     "name": "#%%\n"
    }
   }
  },
  {
   "cell_type": "code",
   "execution_count": null,
   "outputs": [],
   "source": [
    "etas_data.to_csv('parametrization_etas.csv')"
   ],
   "metadata": {
    "collapsed": false,
    "pycharm": {
     "name": "#%%\n"
    }
   }
  },
  {
   "cell_type": "code",
   "execution_count": null,
   "outputs": [],
   "source": [
    "print(PI_Data_new - PI_data)"
   ],
   "metadata": {
    "collapsed": false,
    "pycharm": {
     "name": "#%%\n"
    }
   }
  },
  {
   "cell_type": "code",
   "execution_count": null,
   "outputs": [],
   "source": [
    "#Convert it to json? or some other type?"
   ],
   "metadata": {
    "collapsed": false,
    "pycharm": {
     "name": "#%%\n"
    }
   }
  },
  {
   "cell_type": "code",
   "execution_count": null,
   "outputs": [],
   "source": [
    "etas_data.set_index('heat_source_T', inplace=True)\n",
    "result = etas_data.to_json(orient=\"index\")\n",
    "parsed = json.loads(result)\n",
    "json.dumps(parsed, indent=4)"
   ],
   "metadata": {
    "collapsed": false,
    "pycharm": {
     "name": "#%%\n"
    }
   }
  },
  {
   "cell_type": "code",
   "execution_count": null,
   "outputs": [],
   "source": [
    "data={}\n",
    "data['eta_s'] = parsed"
   ],
   "metadata": {
    "collapsed": false,
    "pycharm": {
     "name": "#%%\n"
    }
   }
  },
  {
   "cell_type": "code",
   "execution_count": null,
   "outputs": [],
   "source": [
    "heat_load_data.set_index('heat_source_T', inplace=True)\n",
    "result = heat_load_data.to_json(orient=\"index\")\n",
    "parsed = json.loads(result)\n",
    "json.dumps(parsed, indent=4)\n",
    "data['heatload'] = parsed"
   ],
   "metadata": {
    "collapsed": false,
    "pycharm": {
     "name": "#%%\n"
    }
   }
  },
  {
   "cell_type": "code",
   "execution_count": null,
   "outputs": [],
   "source": [
    "ids = np.arange(1,etas_data.size+1,1)\n",
    "ids_x = [ids[x:x+len(etas_data.columns)] for x in range(0,len(ids), len(etas_data.columns)) ]\n",
    "id_list = pd.DataFrame(ids_x, columns=etas_data.columns, index=etas_data.index)\n",
    "result = id_list.to_json(orient=\"index\")\n",
    "parsed = json.loads(result)\n",
    "json.dumps(parsed, indent=4)\n",
    "data['ids'] = parsed"
   ],
   "metadata": {
    "collapsed": false,
    "pycharm": {
     "name": "#%%\n"
    }
   }
  },
  {
   "cell_type": "code",
   "execution_count": null,
   "outputs": [],
   "source": [
    "# The minimum heatload for this model of heat pump should be provided\n",
    "data['min_heatload'] = 15600\n",
    "data['max_heatload'] = 1000* heat_load_data.max().max()"
   ],
   "metadata": {
    "collapsed": false,
    "pycharm": {
     "name": "#%%\n"
    }
   }
  },
  {
   "cell_type": "code",
   "execution_count": null,
   "outputs": [],
   "source": [
    "# Give a name to the model of heat pump being parametrized\n",
    "model_name = 'Air_30kW'\n",
    "with open(\"../../mosaik_components/heatpump/eta_s_data.json\") as feedsjson:\n",
    "    feeds = json.load(feedsjson)\n",
    "\n",
    "if model_name in feeds.keys():\n",
    "    a = input('The model name already exists and must be replaced. Do you want to replace the data (y/n)? : ')\n",
    "    if a.lower() == 'y':\n",
    "        feeds[model_name]= data\n",
    "    elif a.lower() =='n':\n",
    "        model_name = input('Enter new model name')\n",
    "        feeds[model_name]= data\n",
    "    else:\n",
    "        print(\"Wrong input. Execute cell again.\")\n",
    "else:\n",
    "    feeds[model_name] = data"
   ],
   "metadata": {
    "collapsed": false,
    "pycharm": {
     "name": "#%%\n"
    }
   }
  },
  {
   "cell_type": "code",
   "execution_count": null,
   "outputs": [],
   "source": [
    "with open(\"../../mosaik_components/heatpump/eta_s_data.json\", \"w\") as write_file:\n",
    "    json.dump(feeds, write_file, indent=4)"
   ],
   "metadata": {
    "collapsed": false,
    "pycharm": {
     "name": "#%%\n"
    }
   }
  },
  {
   "cell_type": "code",
   "execution_count": null,
   "outputs": [],
   "source": [],
   "metadata": {
    "collapsed": false,
    "pycharm": {
     "name": "#%%\n"
    }
   }
  }
 ],
 "metadata": {
  "kernelspec": {
   "display_name": "Python 3",
   "language": "python",
   "name": "python3"
  },
  "language_info": {
   "codemirror_mode": {
    "name": "ipython",
    "version": 2
   },
   "file_extension": ".py",
   "mimetype": "text/x-python",
   "name": "python",
   "nbconvert_exporter": "python",
   "pygments_lexer": "ipython2",
   "version": "2.7.6"
  }
 },
 "nbformat": 4,
 "nbformat_minor": 0
}
