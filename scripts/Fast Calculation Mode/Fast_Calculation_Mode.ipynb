{
 "cells": [
  {
   "cell_type": "code",
   "execution_count": 1,
   "outputs": [
    {
     "data": {
      "text/plain": "'C:\\\\Users\\\\prana\\\\.tespy\\\\log_files\\\\tespy.log'"
     },
     "execution_count": 1,
     "metadata": {},
     "output_type": "execute_result"
    }
   ],
   "source": [
    "from mosaik_heatpump.heatpump.Heat_Pump_Des import Heat_Pump_Des\n",
    "import pandas as pd\n",
    "import numpy as np\n",
    "from tqdm import tqdm\n",
    "from tespy.tools import logger\n",
    "import logging\n",
    "logger.define_logging(log_path=True, log_version=True,\n",
    "                      screen_level=logging.ERROR,\n",
    "                      file_level=logging.DEBUG)"
   ],
   "metadata": {
    "collapsed": false,
    "pycharm": {
     "name": "#%%\n"
    }
   }
  },
  {
   "cell_type": "code",
   "execution_count": 2,
   "outputs": [],
   "source": [
    "params_air = {\n",
    "        'heat_source': 'air',\n",
    "        'heat_source_T': 7,\n",
    "        'cons_T': 35,\n",
    "        'calc_mode': 'detailed'\n",
    "    }"
   ],
   "metadata": {
    "collapsed": false,
    "pycharm": {
     "name": "#%%\n"
    }
   }
  },
  {
   "cell_type": "code",
   "execution_count": 3,
   "outputs": [],
   "source": [
    "heat_pump_1 = Heat_Pump_Des(params_air)"
   ],
   "metadata": {
    "collapsed": false,
    "pycharm": {
     "name": "#%%\n"
    }
   }
  },
  {
   "cell_type": "code",
   "execution_count": 12,
   "outputs": [],
   "source": [
    "inputs_air_1 = {'heat_source_T': -20, 'Q_Demand': 5000, 'cond_in_T': 25}\n",
    "\n",
    "T_amb_list = np.arange(5, 20, 1)\n",
    "cond_in_T_list = np.arange(45, 51, 1)\n",
    "\n",
    "# T_amb_list = [7]\n",
    "# cond_in_T_list = [47,48]\n",
    "\n",
    "final_dict = {}\n",
    "df = pd.DataFrame(index=T_amb_list, columns=cond_in_T_list)"
   ],
   "metadata": {
    "collapsed": false,
    "pycharm": {
     "name": "#%%\n"
    }
   }
  },
  {
   "cell_type": "code",
   "execution_count": 13,
   "outputs": [
    {
     "name": "stderr",
     "output_type": "stream",
     "text": [
      "  3%|▎         | 3/90 [00:19<09:25,  6.51s/it]"
     ]
    },
    {
     "name": "stdout",
     "output_type": "stream",
     "text": [
      "16:09:56-ERROR-Singularity in jacobian matrix, calculation aborted! Make sure your network does not have any linear dependencies in the parametrisation. Other reasons might be\n",
      "-> given temperature with given pressure in two phase region, try setting enthalpy instead or provide accurate starting value for pressure.\n",
      "-> given logarithmic temperature differences or kA-values for heat exchangers, \n",
      "-> support better starting values.\n",
      "-> bad starting value for fuel mass flow of combustion chamber, provide small (near to zero, but not zero) starting value.\n",
      "Error for {'heat_source_T': 5, 'cond_in_T': 48, 'Q_Demand': 5000.0} inputs\n",
      "Error for {'heat_source_T': 5, 'cond_in_T': 48, 'Q_Demand': 5500.0} inputs\n",
      "16:09:57-ERROR-Singularity in jacobian matrix, calculation aborted! Make sure your network does not have any linear dependencies in the parametrisation. Other reasons might be\n",
      "-> given temperature with given pressure in two phase region, try setting enthalpy instead or provide accurate starting value for pressure.\n",
      "-> given logarithmic temperature differences or kA-values for heat exchangers, \n",
      "-> support better starting values.\n",
      "-> bad starting value for fuel mass flow of combustion chamber, provide small (near to zero, but not zero) starting value.\n",
      "Error for {'heat_source_T': 5, 'cond_in_T': 48, 'Q_Demand': 6500.0} inputs\n",
      "Error for {'heat_source_T': 5, 'cond_in_T': 48, 'Q_Demand': 7000.0} inputs\n",
      "Error for {'heat_source_T': 5, 'cond_in_T': 48, 'Q_Demand': 7500.0} inputs\n",
      "Error for {'heat_source_T': 5, 'cond_in_T': 48, 'Q_Demand': 8000.0} inputs\n",
      "Error for {'heat_source_T': 5, 'cond_in_T': 48, 'Q_Demand': 8500.0} inputs\n",
      "Error for {'heat_source_T': 5, 'cond_in_T': 48, 'Q_Demand': 9000.0} inputs\n",
      "Error for {'heat_source_T': 5, 'cond_in_T': 48, 'Q_Demand': 9500.0} inputs\n",
      "Error for {'heat_source_T': 5, 'cond_in_T': 48, 'Q_Demand': 10000.0} inputs\n",
      "Error for {'heat_source_T': 5, 'cond_in_T': 48, 'Q_Demand': 10500.0} inputs\n",
      "Error for {'heat_source_T': 5, 'cond_in_T': 48, 'Q_Demand': 11000.0} inputs\n",
      "Error for {'heat_source_T': 5, 'cond_in_T': 48, 'Q_Demand': 11500.0} inputs\n",
      "Error for {'heat_source_T': 5, 'cond_in_T': 48, 'Q_Demand': 12000.0} inputs\n",
      "Error for {'heat_source_T': 5, 'cond_in_T': 48, 'Q_Demand': 12500.0} inputs\n",
      "Error for {'heat_source_T': 5, 'cond_in_T': 48, 'Q_Demand': 13000.0} inputs\n"
     ]
    },
    {
     "name": "stderr",
     "output_type": "stream",
     "text": [
      "  4%|▍         | 4/90 [00:29<11:25,  7.97s/it]"
     ]
    },
    {
     "name": "stdout",
     "output_type": "stream",
     "text": [
      "Error for {'heat_source_T': 5, 'cond_in_T': 48, 'Q_Demand': 13500.0} inputs\n",
      "Error for {'heat_source_T': 5, 'cond_in_T': 49, 'Q_Demand': 5000.0} inputs\n",
      "Error for {'heat_source_T': 5, 'cond_in_T': 49, 'Q_Demand': 5500.0} inputs\n",
      "Error for {'heat_source_T': 5, 'cond_in_T': 49, 'Q_Demand': 6500.0} inputs\n",
      "Error for {'heat_source_T': 5, 'cond_in_T': 49, 'Q_Demand': 7000.0} inputs\n",
      "Error for {'heat_source_T': 5, 'cond_in_T': 49, 'Q_Demand': 7500.0} inputs\n",
      "Error for {'heat_source_T': 5, 'cond_in_T': 49, 'Q_Demand': 8000.0} inputs\n",
      "Error for {'heat_source_T': 5, 'cond_in_T': 49, 'Q_Demand': 8500.0} inputs\n",
      "Error for {'heat_source_T': 5, 'cond_in_T': 49, 'Q_Demand': 9000.0} inputs\n",
      "Error for {'heat_source_T': 5, 'cond_in_T': 49, 'Q_Demand': 9500.0} inputs\n",
      "Error for {'heat_source_T': 5, 'cond_in_T': 49, 'Q_Demand': 10000.0} inputs\n",
      "Error for {'heat_source_T': 5, 'cond_in_T': 49, 'Q_Demand': 10500.0} inputs\n",
      "Error for {'heat_source_T': 5, 'cond_in_T': 49, 'Q_Demand': 11000.0} inputs\n",
      "Error for {'heat_source_T': 5, 'cond_in_T': 49, 'Q_Demand': 11500.0} inputs\n",
      "Error for {'heat_source_T': 5, 'cond_in_T': 49, 'Q_Demand': 12000.0} inputs\n",
      "Error for {'heat_source_T': 5, 'cond_in_T': 49, 'Q_Demand': 12500.0} inputs\n",
      "Error for {'heat_source_T': 5, 'cond_in_T': 49, 'Q_Demand': 13000.0} inputs\n"
     ]
    },
    {
     "name": "stderr",
     "output_type": "stream",
     "text": [
      "  6%|▌         | 5/90 [00:48<16:28, 11.62s/it]"
     ]
    },
    {
     "name": "stdout",
     "output_type": "stream",
     "text": [
      "Error for {'heat_source_T': 5, 'cond_in_T': 49, 'Q_Demand': 13500.0} inputs\n",
      "Error for {'heat_source_T': 5, 'cond_in_T': 50, 'Q_Demand': 5000.0} inputs\n",
      "Error for {'heat_source_T': 5, 'cond_in_T': 50, 'Q_Demand': 5500.0} inputs\n",
      "Error for {'heat_source_T': 5, 'cond_in_T': 50, 'Q_Demand': 6000.0} inputs\n",
      "Error for {'heat_source_T': 5, 'cond_in_T': 50, 'Q_Demand': 6500.0} inputs\n",
      "Error for {'heat_source_T': 5, 'cond_in_T': 50, 'Q_Demand': 7000.0} inputs\n",
      "Error for {'heat_source_T': 5, 'cond_in_T': 50, 'Q_Demand': 7500.0} inputs\n",
      "Error for {'heat_source_T': 5, 'cond_in_T': 50, 'Q_Demand': 8000.0} inputs\n",
      "Error for {'heat_source_T': 5, 'cond_in_T': 50, 'Q_Demand': 8500.0} inputs\n",
      "Error for {'heat_source_T': 5, 'cond_in_T': 50, 'Q_Demand': 9000.0} inputs\n",
      "Error for {'heat_source_T': 5, 'cond_in_T': 50, 'Q_Demand': 9500.0} inputs\n",
      "Error for {'heat_source_T': 5, 'cond_in_T': 50, 'Q_Demand': 10000.0} inputs\n",
      "Error for {'heat_source_T': 5, 'cond_in_T': 50, 'Q_Demand': 10500.0} inputs\n",
      "Error for {'heat_source_T': 5, 'cond_in_T': 50, 'Q_Demand': 11000.0} inputs\n",
      "Error for {'heat_source_T': 5, 'cond_in_T': 50, 'Q_Demand': 11500.0} inputs\n",
      "Error for {'heat_source_T': 5, 'cond_in_T': 50, 'Q_Demand': 12000.0} inputs\n",
      "Error for {'heat_source_T': 5, 'cond_in_T': 50, 'Q_Demand': 12500.0} inputs\n",
      "Error for {'heat_source_T': 5, 'cond_in_T': 50, 'Q_Demand': 13000.0} inputs\n"
     ]
    },
    {
     "name": "stderr",
     "output_type": "stream",
     "text": [
      "  7%|▋         | 6/90 [01:17<24:45, 17.69s/it]"
     ]
    },
    {
     "name": "stdout",
     "output_type": "stream",
     "text": [
      "Error for {'heat_source_T': 5, 'cond_in_T': 50, 'Q_Demand': 13500.0} inputs\n"
     ]
    },
    {
     "name": "stderr",
     "output_type": "stream",
     "text": [
      " 10%|█         | 9/90 [01:36<13:24,  9.93s/it]"
     ]
    },
    {
     "name": "stdout",
     "output_type": "stream",
     "text": [
      "16:11:13-ERROR-Singularity in jacobian matrix, calculation aborted! Make sure your network does not have any linear dependencies in the parametrisation. Other reasons might be\n",
      "-> given temperature with given pressure in two phase region, try setting enthalpy instead or provide accurate starting value for pressure.\n",
      "-> given logarithmic temperature differences or kA-values for heat exchangers, \n",
      "-> support better starting values.\n",
      "-> bad starting value for fuel mass flow of combustion chamber, provide small (near to zero, but not zero) starting value.\n",
      "Error for {'heat_source_T': 6, 'cond_in_T': 48, 'Q_Demand': 5000.0} inputs\n",
      "16:11:14-ERROR-Singularity in jacobian matrix, calculation aborted! Make sure your network does not have any linear dependencies in the parametrisation. Other reasons might be\n",
      "-> given temperature with given pressure in two phase region, try setting enthalpy instead or provide accurate starting value for pressure.\n",
      "-> given logarithmic temperature differences or kA-values for heat exchangers, \n",
      "-> support better starting values.\n",
      "-> bad starting value for fuel mass flow of combustion chamber, provide small (near to zero, but not zero) starting value.\n",
      "Error for {'heat_source_T': 6, 'cond_in_T': 48, 'Q_Demand': 5500.0} inputs\n",
      "Error for {'heat_source_T': 6, 'cond_in_T': 48, 'Q_Demand': 6000.0} inputs\n",
      "Error for {'heat_source_T': 6, 'cond_in_T': 48, 'Q_Demand': 6500.0} inputs\n",
      "Error for {'heat_source_T': 6, 'cond_in_T': 48, 'Q_Demand': 7000.0} inputs\n",
      "Error for {'heat_source_T': 6, 'cond_in_T': 48, 'Q_Demand': 7500.0} inputs\n",
      "Error for {'heat_source_T': 6, 'cond_in_T': 48, 'Q_Demand': 8000.0} inputs\n",
      "Error for {'heat_source_T': 6, 'cond_in_T': 48, 'Q_Demand': 8500.0} inputs\n",
      "Error for {'heat_source_T': 6, 'cond_in_T': 48, 'Q_Demand': 9000.0} inputs\n",
      "Error for {'heat_source_T': 6, 'cond_in_T': 48, 'Q_Demand': 9500.0} inputs\n",
      "Error for {'heat_source_T': 6, 'cond_in_T': 48, 'Q_Demand': 10000.0} inputs\n",
      "Error for {'heat_source_T': 6, 'cond_in_T': 48, 'Q_Demand': 10500.0} inputs\n",
      "Error for {'heat_source_T': 6, 'cond_in_T': 48, 'Q_Demand': 11000.0} inputs\n",
      "Error for {'heat_source_T': 6, 'cond_in_T': 48, 'Q_Demand': 11500.0} inputs\n",
      "Error for {'heat_source_T': 6, 'cond_in_T': 48, 'Q_Demand': 12000.0} inputs\n",
      "Error for {'heat_source_T': 6, 'cond_in_T': 48, 'Q_Demand': 12500.0} inputs\n",
      "Error for {'heat_source_T': 6, 'cond_in_T': 48, 'Q_Demand': 13000.0} inputs\n"
     ]
    },
    {
     "name": "stderr",
     "output_type": "stream",
     "text": [
      " 11%|█         | 10/90 [02:10<22:57, 17.22s/it]"
     ]
    },
    {
     "name": "stdout",
     "output_type": "stream",
     "text": [
      "Error for {'heat_source_T': 6, 'cond_in_T': 49, 'Q_Demand': 5000.0} inputs\n",
      "Error for {'heat_source_T': 6, 'cond_in_T': 49, 'Q_Demand': 5500.0} inputs\n",
      "Error for {'heat_source_T': 6, 'cond_in_T': 49, 'Q_Demand': 6000.0} inputs\n",
      "Error for {'heat_source_T': 6, 'cond_in_T': 49, 'Q_Demand': 6500.0} inputs\n"
     ]
    },
    {
     "name": "stderr",
     "output_type": "stream",
     "text": [
      " 12%|█▏        | 11/90 [02:16<18:22, 13.96s/it]"
     ]
    },
    {
     "name": "stdout",
     "output_type": "stream",
     "text": [
      "Error for {'heat_source_T': 6, 'cond_in_T': 50, 'Q_Demand': 5000.0} inputs\n",
      "16:11:54-ERROR-Singularity in jacobian matrix, calculation aborted! Make sure your network does not have any linear dependencies in the parametrisation. Other reasons might be\n",
      "-> given temperature with given pressure in two phase region, try setting enthalpy instead or provide accurate starting value for pressure.\n",
      "-> given logarithmic temperature differences or kA-values for heat exchangers, \n",
      "-> support better starting values.\n",
      "-> bad starting value for fuel mass flow of combustion chamber, provide small (near to zero, but not zero) starting value.\n",
      "Error for {'heat_source_T': 6, 'cond_in_T': 50, 'Q_Demand': 5500.0} inputs\n",
      "Error for {'heat_source_T': 6, 'cond_in_T': 50, 'Q_Demand': 6000.0} inputs\n"
     ]
    },
    {
     "name": "stderr",
     "output_type": "stream",
     "text": [
      " 17%|█▋        | 15/90 [02:43<10:25,  8.34s/it]"
     ]
    },
    {
     "name": "stdout",
     "output_type": "stream",
     "text": [
      "16:12:20-ERROR-Singularity in jacobian matrix, calculation aborted! Make sure your network does not have any linear dependencies in the parametrisation. Other reasons might be\n",
      "-> given temperature with given pressure in two phase region, try setting enthalpy instead or provide accurate starting value for pressure.\n",
      "-> given logarithmic temperature differences or kA-values for heat exchangers, \n",
      "-> support better starting values.\n",
      "-> bad starting value for fuel mass flow of combustion chamber, provide small (near to zero, but not zero) starting value.\n",
      "Error for {'heat_source_T': 7, 'cond_in_T': 48, 'Q_Demand': 5000.0} inputs\n",
      "Error for {'heat_source_T': 7, 'cond_in_T': 48, 'Q_Demand': 5500.0} inputs\n",
      "Error for {'heat_source_T': 7, 'cond_in_T': 48, 'Q_Demand': 6000.0} inputs\n",
      "Error for {'heat_source_T': 7, 'cond_in_T': 48, 'Q_Demand': 6500.0} inputs\n"
     ]
    },
    {
     "name": "stderr",
     "output_type": "stream",
     "text": [
      " 18%|█▊        | 16/90 [02:50<09:43,  7.88s/it]"
     ]
    },
    {
     "name": "stdout",
     "output_type": "stream",
     "text": [
      "16:12:27-ERROR-Singularity in jacobian matrix, calculation aborted! Make sure your network does not have any linear dependencies in the parametrisation. Other reasons might be\n",
      "-> given temperature with given pressure in two phase region, try setting enthalpy instead or provide accurate starting value for pressure.\n",
      "-> given logarithmic temperature differences or kA-values for heat exchangers, \n",
      "-> support better starting values.\n",
      "-> bad starting value for fuel mass flow of combustion chamber, provide small (near to zero, but not zero) starting value.\n",
      "Error for {'heat_source_T': 7, 'cond_in_T': 49, 'Q_Demand': 5000.0} inputs\n",
      "Error for {'heat_source_T': 7, 'cond_in_T': 49, 'Q_Demand': 5500.0} inputs\n",
      "Error for {'heat_source_T': 7, 'cond_in_T': 49, 'Q_Demand': 6000.0} inputs\n",
      "Error for {'heat_source_T': 7, 'cond_in_T': 49, 'Q_Demand': 6500.0} inputs\n"
     ]
    },
    {
     "name": "stderr",
     "output_type": "stream",
     "text": [
      " 19%|█▉        | 17/90 [02:57<09:05,  7.47s/it]"
     ]
    },
    {
     "name": "stdout",
     "output_type": "stream",
     "text": [
      "Error for {'heat_source_T': 7, 'cond_in_T': 50, 'Q_Demand': 5000.0} inputs\n",
      "Error for {'heat_source_T': 7, 'cond_in_T': 50, 'Q_Demand': 5500.0} inputs\n",
      "Error for {'heat_source_T': 7, 'cond_in_T': 50, 'Q_Demand': 6000.0} inputs\n"
     ]
    },
    {
     "name": "stderr",
     "output_type": "stream",
     "text": [
      " 23%|██▎       | 21/90 [03:23<07:45,  6.74s/it]"
     ]
    },
    {
     "name": "stdout",
     "output_type": "stream",
     "text": [
      "16:13:00-ERROR-Singularity in jacobian matrix, calculation aborted! Make sure your network does not have any linear dependencies in the parametrisation. Other reasons might be\n",
      "-> given temperature with given pressure in two phase region, try setting enthalpy instead or provide accurate starting value for pressure.\n",
      "-> given logarithmic temperature differences or kA-values for heat exchangers, \n",
      "-> support better starting values.\n",
      "-> bad starting value for fuel mass flow of combustion chamber, provide small (near to zero, but not zero) starting value.\n",
      "Error for {'heat_source_T': 8, 'cond_in_T': 48, 'Q_Demand': 5000.0} inputs\n",
      "Error for {'heat_source_T': 8, 'cond_in_T': 48, 'Q_Demand': 5500.0} inputs\n",
      "Error for {'heat_source_T': 8, 'cond_in_T': 48, 'Q_Demand': 6000.0} inputs\n",
      "Error for {'heat_source_T': 8, 'cond_in_T': 48, 'Q_Demand': 6500.0} inputs\n",
      "Error for {'heat_source_T': 8, 'cond_in_T': 48, 'Q_Demand': 7000.0} inputs\n",
      "Error for {'heat_source_T': 8, 'cond_in_T': 48, 'Q_Demand': 7500.0} inputs\n",
      "Error for {'heat_source_T': 8, 'cond_in_T': 48, 'Q_Demand': 8000.0} inputs\n",
      "Error for {'heat_source_T': 8, 'cond_in_T': 48, 'Q_Demand': 8500.0} inputs\n",
      "Error for {'heat_source_T': 8, 'cond_in_T': 48, 'Q_Demand': 9000.0} inputs\n",
      "Error for {'heat_source_T': 8, 'cond_in_T': 48, 'Q_Demand': 9500.0} inputs\n",
      "Error for {'heat_source_T': 8, 'cond_in_T': 48, 'Q_Demand': 10000.0} inputs\n",
      "Error for {'heat_source_T': 8, 'cond_in_T': 48, 'Q_Demand': 10500.0} inputs\n",
      "Error for {'heat_source_T': 8, 'cond_in_T': 48, 'Q_Demand': 11000.0} inputs\n",
      "Error for {'heat_source_T': 8, 'cond_in_T': 48, 'Q_Demand': 11500.0} inputs\n",
      "Error for {'heat_source_T': 8, 'cond_in_T': 48, 'Q_Demand': 12000.0} inputs\n",
      "Error for {'heat_source_T': 8, 'cond_in_T': 48, 'Q_Demand': 12500.0} inputs\n",
      "Error for {'heat_source_T': 8, 'cond_in_T': 48, 'Q_Demand': 13000.0} inputs\n"
     ]
    },
    {
     "name": "stderr",
     "output_type": "stream",
     "text": [
      " 24%|██▍       | 22/90 [03:38<10:41,  9.43s/it]"
     ]
    },
    {
     "name": "stdout",
     "output_type": "stream",
     "text": [
      "Error for {'heat_source_T': 8, 'cond_in_T': 48, 'Q_Demand': 13500.0} inputs\n",
      "Error for {'heat_source_T': 8, 'cond_in_T': 49, 'Q_Demand': 5000.0} inputs\n",
      "Error for {'heat_source_T': 8, 'cond_in_T': 49, 'Q_Demand': 5500.0} inputs\n",
      "Error for {'heat_source_T': 8, 'cond_in_T': 49, 'Q_Demand': 6000.0} inputs\n"
     ]
    },
    {
     "name": "stderr",
     "output_type": "stream",
     "text": [
      " 26%|██▌       | 23/90 [03:45<09:35,  8.59s/it]"
     ]
    },
    {
     "name": "stdout",
     "output_type": "stream",
     "text": [
      "16:13:22-ERROR-Singularity in jacobian matrix, calculation aborted! Make sure your network does not have any linear dependencies in the parametrisation. Other reasons might be\n",
      "-> given temperature with given pressure in two phase region, try setting enthalpy instead or provide accurate starting value for pressure.\n",
      "-> given logarithmic temperature differences or kA-values for heat exchangers, \n",
      "-> support better starting values.\n",
      "-> bad starting value for fuel mass flow of combustion chamber, provide small (near to zero, but not zero) starting value.\n",
      "Error for {'heat_source_T': 8, 'cond_in_T': 50, 'Q_Demand': 5000.0} inputs\n",
      "Error for {'heat_source_T': 8, 'cond_in_T': 50, 'Q_Demand': 5500.0} inputs\n",
      "Error for {'heat_source_T': 8, 'cond_in_T': 50, 'Q_Demand': 6000.0} inputs\n"
     ]
    },
    {
     "name": "stderr",
     "output_type": "stream",
     "text": [
      " 30%|███       | 27/90 [04:10<07:15,  6.91s/it]"
     ]
    },
    {
     "name": "stdout",
     "output_type": "stream",
     "text": [
      "16:13:48-ERROR-Singularity in jacobian matrix, calculation aborted! Make sure your network does not have any linear dependencies in the parametrisation. Other reasons might be\n",
      "-> given temperature with given pressure in two phase region, try setting enthalpy instead or provide accurate starting value for pressure.\n",
      "-> given logarithmic temperature differences or kA-values for heat exchangers, \n",
      "-> support better starting values.\n",
      "-> bad starting value for fuel mass flow of combustion chamber, provide small (near to zero, but not zero) starting value.\n",
      "Error for {'heat_source_T': 9, 'cond_in_T': 48, 'Q_Demand': 5000.0} inputs\n",
      "Error for {'heat_source_T': 9, 'cond_in_T': 48, 'Q_Demand': 5500.0} inputs\n",
      "Error for {'heat_source_T': 9, 'cond_in_T': 48, 'Q_Demand': 6000.0} inputs\n",
      "Error for {'heat_source_T': 9, 'cond_in_T': 48, 'Q_Demand': 6500.0} inputs\n"
     ]
    },
    {
     "name": "stderr",
     "output_type": "stream",
     "text": [
      " 31%|███       | 28/90 [04:17<07:00,  6.79s/it]"
     ]
    },
    {
     "name": "stdout",
     "output_type": "stream",
     "text": [
      "16:13:54-ERROR-Singularity in jacobian matrix, calculation aborted! Make sure your network does not have any linear dependencies in the parametrisation. Other reasons might be\n",
      "-> given temperature with given pressure in two phase region, try setting enthalpy instead or provide accurate starting value for pressure.\n",
      "-> given logarithmic temperature differences or kA-values for heat exchangers, \n",
      "-> support better starting values.\n",
      "-> bad starting value for fuel mass flow of combustion chamber, provide small (near to zero, but not zero) starting value.\n",
      "Error for {'heat_source_T': 9, 'cond_in_T': 49, 'Q_Demand': 5000.0} inputs\n",
      "Error for {'heat_source_T': 9, 'cond_in_T': 49, 'Q_Demand': 5500.0} inputs\n",
      "Error for {'heat_source_T': 9, 'cond_in_T': 49, 'Q_Demand': 6000.0} inputs\n",
      "Error for {'heat_source_T': 9, 'cond_in_T': 49, 'Q_Demand': 6500.0} inputs\n",
      "Error for {'heat_source_T': 9, 'cond_in_T': 49, 'Q_Demand': 7000.0} inputs\n",
      "Error for {'heat_source_T': 9, 'cond_in_T': 49, 'Q_Demand': 7500.0} inputs\n",
      "Error for {'heat_source_T': 9, 'cond_in_T': 49, 'Q_Demand': 8000.0} inputs\n",
      "Error for {'heat_source_T': 9, 'cond_in_T': 49, 'Q_Demand': 8500.0} inputs\n",
      "Error for {'heat_source_T': 9, 'cond_in_T': 49, 'Q_Demand': 9000.0} inputs\n",
      "Error for {'heat_source_T': 9, 'cond_in_T': 49, 'Q_Demand': 9500.0} inputs\n",
      "Error for {'heat_source_T': 9, 'cond_in_T': 49, 'Q_Demand': 10000.0} inputs\n",
      "Error for {'heat_source_T': 9, 'cond_in_T': 49, 'Q_Demand': 10500.0} inputs\n",
      "Error for {'heat_source_T': 9, 'cond_in_T': 49, 'Q_Demand': 11000.0} inputs\n",
      "Error for {'heat_source_T': 9, 'cond_in_T': 49, 'Q_Demand': 11500.0} inputs\n",
      "Error for {'heat_source_T': 9, 'cond_in_T': 49, 'Q_Demand': 12000.0} inputs\n",
      "Error for {'heat_source_T': 9, 'cond_in_T': 49, 'Q_Demand': 12500.0} inputs\n",
      "Error for {'heat_source_T': 9, 'cond_in_T': 49, 'Q_Demand': 13000.0} inputs\n"
     ]
    },
    {
     "name": "stderr",
     "output_type": "stream",
     "text": [
      " 32%|███▏      | 29/90 [04:49<14:28, 14.25s/it]"
     ]
    },
    {
     "name": "stdout",
     "output_type": "stream",
     "text": [
      "Error for {'heat_source_T': 9, 'cond_in_T': 49, 'Q_Demand': 13500.0} inputs\n",
      "Error for {'heat_source_T': 9, 'cond_in_T': 50, 'Q_Demand': 5000.0} inputs\n",
      "Error for {'heat_source_T': 9, 'cond_in_T': 50, 'Q_Demand': 5500.0} inputs\n",
      "Error for {'heat_source_T': 9, 'cond_in_T': 50, 'Q_Demand': 6000.0} inputs\n"
     ]
    },
    {
     "name": "stderr",
     "output_type": "stream",
     "text": [
      " 33%|███▎      | 30/90 [04:55<11:53, 11.89s/it]"
     ]
    },
    {
     "name": "stdout",
     "output_type": "stream",
     "text": [
      "Error for {'heat_source_T': 10, 'cond_in_T': 45, 'Q_Demand': 10000.0} inputs\n"
     ]
    },
    {
     "name": "stderr",
     "output_type": "stream",
     "text": [
      " 37%|███▋      | 33/90 [05:15<07:59,  8.41s/it]"
     ]
    },
    {
     "name": "stdout",
     "output_type": "stream",
     "text": [
      "Error for {'heat_source_T': 10, 'cond_in_T': 48, 'Q_Demand': 5000.0} inputs\n",
      "Error for {'heat_source_T': 10, 'cond_in_T': 48, 'Q_Demand': 5500.0} inputs\n",
      "Error for {'heat_source_T': 10, 'cond_in_T': 48, 'Q_Demand': 6000.0} inputs\n",
      "Error for {'heat_source_T': 10, 'cond_in_T': 48, 'Q_Demand': 6500.0} inputs\n",
      "Error for {'heat_source_T': 10, 'cond_in_T': 48, 'Q_Demand': 7000.0} inputs\n",
      "Error for {'heat_source_T': 10, 'cond_in_T': 48, 'Q_Demand': 7500.0} inputs\n",
      "Error for {'heat_source_T': 10, 'cond_in_T': 48, 'Q_Demand': 8000.0} inputs\n",
      "Error for {'heat_source_T': 10, 'cond_in_T': 48, 'Q_Demand': 8500.0} inputs\n",
      "Error for {'heat_source_T': 10, 'cond_in_T': 48, 'Q_Demand': 9000.0} inputs\n",
      "Error for {'heat_source_T': 10, 'cond_in_T': 48, 'Q_Demand': 9500.0} inputs\n",
      "Error for {'heat_source_T': 10, 'cond_in_T': 48, 'Q_Demand': 10000.0} inputs\n",
      "Error for {'heat_source_T': 10, 'cond_in_T': 48, 'Q_Demand': 10500.0} inputs\n",
      "Error for {'heat_source_T': 10, 'cond_in_T': 48, 'Q_Demand': 11000.0} inputs\n",
      "Error for {'heat_source_T': 10, 'cond_in_T': 48, 'Q_Demand': 11500.0} inputs\n",
      "Error for {'heat_source_T': 10, 'cond_in_T': 48, 'Q_Demand': 12000.0} inputs\n",
      "Error for {'heat_source_T': 10, 'cond_in_T': 48, 'Q_Demand': 12500.0} inputs\n",
      "Error for {'heat_source_T': 10, 'cond_in_T': 48, 'Q_Demand': 13000.0} inputs\n",
      "Error for {'heat_source_T': 10, 'cond_in_T': 48, 'Q_Demand': 13500.0} inputs\n",
      "Error for {'heat_source_T': 10, 'cond_in_T': 48, 'Q_Demand': 14000.0} inputs\n"
     ]
    },
    {
     "name": "stderr",
     "output_type": "stream",
     "text": [
      " 38%|███▊      | 34/90 [05:35<11:05, 11.88s/it]"
     ]
    },
    {
     "name": "stdout",
     "output_type": "stream",
     "text": [
      "Error for {'heat_source_T': 10, 'cond_in_T': 48, 'Q_Demand': 14500.0} inputs\n",
      "Error for {'heat_source_T': 10, 'cond_in_T': 49, 'Q_Demand': 5000.0} inputs\n",
      "16:15:12-ERROR-Singularity in jacobian matrix, calculation aborted! Make sure your network does not have any linear dependencies in the parametrisation. Other reasons might be\n",
      "-> given temperature with given pressure in two phase region, try setting enthalpy instead or provide accurate starting value for pressure.\n",
      "-> given logarithmic temperature differences or kA-values for heat exchangers, \n",
      "-> support better starting values.\n",
      "-> bad starting value for fuel mass flow of combustion chamber, provide small (near to zero, but not zero) starting value.\n",
      "Error for {'heat_source_T': 10, 'cond_in_T': 49, 'Q_Demand': 5500.0} inputs\n",
      "Error for {'heat_source_T': 10, 'cond_in_T': 49, 'Q_Demand': 6000.0} inputs\n",
      "Error for {'heat_source_T': 10, 'cond_in_T': 49, 'Q_Demand': 6500.0} inputs\n"
     ]
    },
    {
     "name": "stderr",
     "output_type": "stream",
     "text": [
      " 39%|███▉      | 35/90 [05:42<09:40, 10.55s/it]"
     ]
    },
    {
     "name": "stdout",
     "output_type": "stream",
     "text": [
      "Error for {'heat_source_T': 10, 'cond_in_T': 50, 'Q_Demand': 5500.0} inputs\n",
      "Error for {'heat_source_T': 10, 'cond_in_T': 50, 'Q_Demand': 6000.0} inputs\n",
      "Error for {'heat_source_T': 10, 'cond_in_T': 50, 'Q_Demand': 6500.0} inputs\n",
      "Error for {'heat_source_T': 10, 'cond_in_T': 50, 'Q_Demand': 7000.0} inputs\n",
      "Error for {'heat_source_T': 10, 'cond_in_T': 50, 'Q_Demand': 7500.0} inputs\n",
      "Error for {'heat_source_T': 10, 'cond_in_T': 50, 'Q_Demand': 8000.0} inputs\n",
      "Error for {'heat_source_T': 10, 'cond_in_T': 50, 'Q_Demand': 8500.0} inputs\n",
      "Error for {'heat_source_T': 10, 'cond_in_T': 50, 'Q_Demand': 9000.0} inputs\n",
      "Error for {'heat_source_T': 10, 'cond_in_T': 50, 'Q_Demand': 9500.0} inputs\n",
      "Error for {'heat_source_T': 10, 'cond_in_T': 50, 'Q_Demand': 10000.0} inputs\n",
      "Error for {'heat_source_T': 10, 'cond_in_T': 50, 'Q_Demand': 10500.0} inputs\n",
      "Error for {'heat_source_T': 10, 'cond_in_T': 50, 'Q_Demand': 11000.0} inputs\n",
      "Error for {'heat_source_T': 10, 'cond_in_T': 50, 'Q_Demand': 11500.0} inputs\n",
      "Error for {'heat_source_T': 10, 'cond_in_T': 50, 'Q_Demand': 12000.0} inputs\n",
      "Error for {'heat_source_T': 10, 'cond_in_T': 50, 'Q_Demand': 12500.0} inputs\n",
      "Error for {'heat_source_T': 10, 'cond_in_T': 50, 'Q_Demand': 13000.0} inputs\n",
      "Error for {'heat_source_T': 10, 'cond_in_T': 50, 'Q_Demand': 13500.0} inputs\n",
      "Error for {'heat_source_T': 10, 'cond_in_T': 50, 'Q_Demand': 14000.0} inputs\n"
     ]
    },
    {
     "name": "stderr",
     "output_type": "stream",
     "text": [
      " 40%|████      | 36/90 [05:57<10:47, 12.00s/it]"
     ]
    },
    {
     "name": "stdout",
     "output_type": "stream",
     "text": [
      "Error for {'heat_source_T': 10, 'cond_in_T': 50, 'Q_Demand': 14500.0} inputs\n"
     ]
    },
    {
     "name": "stderr",
     "output_type": "stream",
     "text": [
      " 43%|████▎     | 39/90 [06:17<07:09,  8.42s/it]"
     ]
    },
    {
     "name": "stdout",
     "output_type": "stream",
     "text": [
      "Error for {'heat_source_T': 11, 'cond_in_T': 48, 'Q_Demand': 5000.0} inputs\n",
      "16:15:55-ERROR-Singularity in jacobian matrix, calculation aborted! Make sure your network does not have any linear dependencies in the parametrisation. Other reasons might be\n",
      "-> given temperature with given pressure in two phase region, try setting enthalpy instead or provide accurate starting value for pressure.\n",
      "-> given logarithmic temperature differences or kA-values for heat exchangers, \n",
      "-> support better starting values.\n",
      "-> bad starting value for fuel mass flow of combustion chamber, provide small (near to zero, but not zero) starting value.\n",
      "Error for {'heat_source_T': 11, 'cond_in_T': 48, 'Q_Demand': 5500.0} inputs\n",
      "Error for {'heat_source_T': 11, 'cond_in_T': 48, 'Q_Demand': 6000.0} inputs\n",
      "Error for {'heat_source_T': 11, 'cond_in_T': 48, 'Q_Demand': 6500.0} inputs\n",
      "Error for {'heat_source_T': 11, 'cond_in_T': 48, 'Q_Demand': 7000.0} inputs\n"
     ]
    },
    {
     "name": "stderr",
     "output_type": "stream",
     "text": [
      " 44%|████▍     | 40/90 [06:24<06:42,  8.06s/it]"
     ]
    },
    {
     "name": "stdout",
     "output_type": "stream",
     "text": [
      "16:16:02-ERROR-Singularity in jacobian matrix, calculation aborted! Make sure your network does not have any linear dependencies in the parametrisation. Other reasons might be\n",
      "-> given temperature with given pressure in two phase region, try setting enthalpy instead or provide accurate starting value for pressure.\n",
      "-> given logarithmic temperature differences or kA-values for heat exchangers, \n",
      "-> support better starting values.\n",
      "-> bad starting value for fuel mass flow of combustion chamber, provide small (near to zero, but not zero) starting value.\n",
      "Error for {'heat_source_T': 11, 'cond_in_T': 49, 'Q_Demand': 5000.0} inputs\n",
      "Error for {'heat_source_T': 11, 'cond_in_T': 49, 'Q_Demand': 5500.0} inputs\n",
      "Error for {'heat_source_T': 11, 'cond_in_T': 49, 'Q_Demand': 6000.0} inputs\n",
      "Error for {'heat_source_T': 11, 'cond_in_T': 49, 'Q_Demand': 6500.0} inputs\n",
      "Error for {'heat_source_T': 11, 'cond_in_T': 49, 'Q_Demand': 7000.0} inputs\n",
      "16:16:07-ERROR-Singularity in jacobian matrix, calculation aborted! Make sure your network does not have any linear dependencies in the parametrisation. Other reasons might be\n",
      "-> given temperature with given pressure in two phase region, try setting enthalpy instead or provide accurate starting value for pressure.\n",
      "-> given logarithmic temperature differences or kA-values for heat exchangers, \n",
      "-> support better starting values.\n",
      "-> bad starting value for fuel mass flow of combustion chamber, provide small (near to zero, but not zero) starting value.\n",
      "Error for {'heat_source_T': 11, 'cond_in_T': 49, 'Q_Demand': 7500.0} inputs\n",
      "Error for {'heat_source_T': 11, 'cond_in_T': 49, 'Q_Demand': 8000.0} inputs\n",
      "Error for {'heat_source_T': 11, 'cond_in_T': 49, 'Q_Demand': 8500.0} inputs\n",
      "Error for {'heat_source_T': 11, 'cond_in_T': 49, 'Q_Demand': 9000.0} inputs\n",
      "Error for {'heat_source_T': 11, 'cond_in_T': 49, 'Q_Demand': 9500.0} inputs\n",
      "Error for {'heat_source_T': 11, 'cond_in_T': 49, 'Q_Demand': 10000.0} inputs\n",
      "Error for {'heat_source_T': 11, 'cond_in_T': 49, 'Q_Demand': 10500.0} inputs\n",
      "Error for {'heat_source_T': 11, 'cond_in_T': 49, 'Q_Demand': 11000.0} inputs\n",
      "Error for {'heat_source_T': 11, 'cond_in_T': 49, 'Q_Demand': 11500.0} inputs\n",
      "Error for {'heat_source_T': 11, 'cond_in_T': 49, 'Q_Demand': 12000.0} inputs\n",
      "Error for {'heat_source_T': 11, 'cond_in_T': 49, 'Q_Demand': 12500.0} inputs\n",
      "Error for {'heat_source_T': 11, 'cond_in_T': 49, 'Q_Demand': 13000.0} inputs\n",
      "Error for {'heat_source_T': 11, 'cond_in_T': 49, 'Q_Demand': 13500.0} inputs\n",
      "Error for {'heat_source_T': 11, 'cond_in_T': 49, 'Q_Demand': 14000.0} inputs"
     ]
    },
    {
     "name": "stderr",
     "output_type": "stream",
     "text": [
      " 46%|████▌     | 41/90 [06:36<07:27,  9.13s/it]"
     ]
    },
    {
     "name": "stdout",
     "output_type": "stream",
     "text": [
      "\n",
      "Error for {'heat_source_T': 11, 'cond_in_T': 49, 'Q_Demand': 14500.0} inputs\n",
      "16:16:13-ERROR-Singularity in jacobian matrix, calculation aborted! Make sure your network does not have any linear dependencies in the parametrisation. Other reasons might be\n",
      "-> given temperature with given pressure in two phase region, try setting enthalpy instead or provide accurate starting value for pressure.\n",
      "-> given logarithmic temperature differences or kA-values for heat exchangers, \n",
      "-> support better starting values.\n",
      "-> bad starting value for fuel mass flow of combustion chamber, provide small (near to zero, but not zero) starting value.\n",
      "Error for {'heat_source_T': 11, 'cond_in_T': 50, 'Q_Demand': 5000.0} inputs\n",
      "Error for {'heat_source_T': 11, 'cond_in_T': 50, 'Q_Demand': 5500.0} inputs\n",
      "Error for {'heat_source_T': 11, 'cond_in_T': 50, 'Q_Demand': 6000.0} inputs\n"
     ]
    },
    {
     "name": "stderr",
     "output_type": "stream",
     "text": [
      " 50%|█████     | 45/90 [07:07<06:20,  8.46s/it]"
     ]
    },
    {
     "name": "stdout",
     "output_type": "stream",
     "text": [
      "Error for {'heat_source_T': 12, 'cond_in_T': 48, 'Q_Demand': 5000.0} inputs\n",
      "Error for {'heat_source_T': 12, 'cond_in_T': 48, 'Q_Demand': 5500.0} inputs\n",
      "Error for {'heat_source_T': 12, 'cond_in_T': 48, 'Q_Demand': 6000.0} inputs\n",
      "Error for {'heat_source_T': 12, 'cond_in_T': 48, 'Q_Demand': 6500.0} inputs\n",
      "Error for {'heat_source_T': 12, 'cond_in_T': 48, 'Q_Demand': 7000.0} inputs\n",
      "Error for {'heat_source_T': 12, 'cond_in_T': 48, 'Q_Demand': 7500.0} inputs\n",
      "Error for {'heat_source_T': 12, 'cond_in_T': 48, 'Q_Demand': 8000.0} inputs\n",
      "Error for {'heat_source_T': 12, 'cond_in_T': 48, 'Q_Demand': 8500.0} inputs\n",
      "Error for {'heat_source_T': 12, 'cond_in_T': 48, 'Q_Demand': 9000.0} inputs\n",
      "Error for {'heat_source_T': 12, 'cond_in_T': 48, 'Q_Demand': 9500.0} inputs\n",
      "Error for {'heat_source_T': 12, 'cond_in_T': 48, 'Q_Demand': 10000.0} inputs\n",
      "Error for {'heat_source_T': 12, 'cond_in_T': 48, 'Q_Demand': 10500.0} inputs\n",
      "Error for {'heat_source_T': 12, 'cond_in_T': 48, 'Q_Demand': 11000.0} inputs\n",
      "Error for {'heat_source_T': 12, 'cond_in_T': 48, 'Q_Demand': 11500.0} inputs\n",
      "Error for {'heat_source_T': 12, 'cond_in_T': 48, 'Q_Demand': 12000.0} inputs\n",
      "Error for {'heat_source_T': 12, 'cond_in_T': 48, 'Q_Demand': 12500.0} inputs\n",
      "Error for {'heat_source_T': 12, 'cond_in_T': 48, 'Q_Demand': 13000.0} inputs\n",
      "Error for {'heat_source_T': 12, 'cond_in_T': 48, 'Q_Demand': 13500.0} inputs\n"
     ]
    },
    {
     "name": "stderr",
     "output_type": "stream",
     "text": [
      " 51%|█████     | 46/90 [07:16<06:09,  8.39s/it]"
     ]
    },
    {
     "name": "stdout",
     "output_type": "stream",
     "text": [
      "Error for {'heat_source_T': 12, 'cond_in_T': 48, 'Q_Demand': 14000.0} inputs\n",
      "Error for {'heat_source_T': 12, 'cond_in_T': 48, 'Q_Demand': 14500.0} inputs\n",
      "Error for {'heat_source_T': 12, 'cond_in_T': 49, 'Q_Demand': 5000.0} inputs\n",
      "16:16:53-ERROR-Singularity in jacobian matrix, calculation aborted! Make sure your network does not have any linear dependencies in the parametrisation. Other reasons might be\n",
      "-> given temperature with given pressure in two phase region, try setting enthalpy instead or provide accurate starting value for pressure.\n",
      "-> given logarithmic temperature differences or kA-values for heat exchangers, \n",
      "-> support better starting values.\n",
      "-> bad starting value for fuel mass flow of combustion chamber, provide small (near to zero, but not zero) starting value.\n",
      "Error for {'heat_source_T': 12, 'cond_in_T': 49, 'Q_Demand': 5500.0} inputs\n",
      "Error for {'heat_source_T': 12, 'cond_in_T': 49, 'Q_Demand': 6000.0} inputs\n",
      "Error for {'heat_source_T': 12, 'cond_in_T': 49, 'Q_Demand': 6500.0} inputs\n"
     ]
    },
    {
     "name": "stderr",
     "output_type": "stream",
     "text": [
      " 52%|█████▏    | 47/90 [07:23<05:45,  8.04s/it]"
     ]
    },
    {
     "name": "stdout",
     "output_type": "stream",
     "text": [
      "16:17:00-ERROR-Singularity in jacobian matrix, calculation aborted! Make sure your network does not have any linear dependencies in the parametrisation. Other reasons might be\n",
      "-> given temperature with given pressure in two phase region, try setting enthalpy instead or provide accurate starting value for pressure.\n",
      "-> given logarithmic temperature differences or kA-values for heat exchangers, \n",
      "-> support better starting values.\n",
      "-> bad starting value for fuel mass flow of combustion chamber, provide small (near to zero, but not zero) starting value.\n",
      "Error for {'heat_source_T': 12, 'cond_in_T': 50, 'Q_Demand': 5000.0} inputs\n",
      "Error for {'heat_source_T': 12, 'cond_in_T': 50, 'Q_Demand': 5500.0} inputs\n",
      "Error for {'heat_source_T': 12, 'cond_in_T': 50, 'Q_Demand': 6000.0} inputs\n"
     ]
    },
    {
     "name": "stderr",
     "output_type": "stream",
     "text": [
      " 57%|█████▋    | 51/90 [07:50<04:30,  6.95s/it]"
     ]
    },
    {
     "name": "stdout",
     "output_type": "stream",
     "text": [
      "16:17:27-ERROR-Singularity in jacobian matrix, calculation aborted! Make sure your network does not have any linear dependencies in the parametrisation. Other reasons might be\n",
      "-> given temperature with given pressure in two phase region, try setting enthalpy instead or provide accurate starting value for pressure.\n",
      "-> given logarithmic temperature differences or kA-values for heat exchangers, \n",
      "-> support better starting values.\n",
      "-> bad starting value for fuel mass flow of combustion chamber, provide small (near to zero, but not zero) starting value.\n",
      "Error for {'heat_source_T': 13, 'cond_in_T': 48, 'Q_Demand': 5000.0} inputs\n",
      "Error for {'heat_source_T': 13, 'cond_in_T': 48, 'Q_Demand': 5500.0} inputs\n",
      "16:17:27-ERROR-Singularity in jacobian matrix, calculation aborted! Make sure your network does not have any linear dependencies in the parametrisation. Other reasons might be\n",
      "-> given temperature with given pressure in two phase region, try setting enthalpy instead or provide accurate starting value for pressure.\n",
      "-> given logarithmic temperature differences or kA-values for heat exchangers, \n",
      "-> support better starting values.\n",
      "-> bad starting value for fuel mass flow of combustion chamber, provide small (near to zero, but not zero) starting value.\n",
      "Error for {'heat_source_T': 13, 'cond_in_T': 48, 'Q_Demand': 6500.0} inputs\n",
      "Error for {'heat_source_T': 13, 'cond_in_T': 48, 'Q_Demand': 7000.0} inputs\n"
     ]
    },
    {
     "name": "stderr",
     "output_type": "stream",
     "text": [
      " 58%|█████▊    | 52/90 [07:57<04:25,  6.99s/it]"
     ]
    },
    {
     "name": "stdout",
     "output_type": "stream",
     "text": [
      "Error for {'heat_source_T': 13, 'cond_in_T': 49, 'Q_Demand': 5000.0} inputs\n",
      "16:17:35-ERROR-Singularity in jacobian matrix, calculation aborted! Make sure your network does not have any linear dependencies in the parametrisation. Other reasons might be\n",
      "-> given temperature with given pressure in two phase region, try setting enthalpy instead or provide accurate starting value for pressure.\n",
      "-> given logarithmic temperature differences or kA-values for heat exchangers, \n",
      "-> support better starting values.\n",
      "-> bad starting value for fuel mass flow of combustion chamber, provide small (near to zero, but not zero) starting value.\n",
      "Error for {'heat_source_T': 13, 'cond_in_T': 49, 'Q_Demand': 5500.0} inputs\n",
      "Error for {'heat_source_T': 13, 'cond_in_T': 49, 'Q_Demand': 6000.0} inputs\n",
      "Error for {'heat_source_T': 13, 'cond_in_T': 49, 'Q_Demand': 6500.0} inputs\n",
      "Error for {'heat_source_T': 13, 'cond_in_T': 49, 'Q_Demand': 7000.0} inputs\n",
      "Error for {'heat_source_T': 13, 'cond_in_T': 49, 'Q_Demand': 7500.0} inputs\n",
      "Error for {'heat_source_T': 13, 'cond_in_T': 49, 'Q_Demand': 8000.0} inputs\n",
      "Error for {'heat_source_T': 13, 'cond_in_T': 49, 'Q_Demand': 8500.0} inputs\n",
      "Error for {'heat_source_T': 13, 'cond_in_T': 49, 'Q_Demand': 9000.0} inputs\n",
      "Error for {'heat_source_T': 13, 'cond_in_T': 49, 'Q_Demand': 9500.0} inputs\n",
      "Error for {'heat_source_T': 13, 'cond_in_T': 49, 'Q_Demand': 10000.0} inputs\n",
      "Error for {'heat_source_T': 13, 'cond_in_T': 49, 'Q_Demand': 10500.0} inputs\n",
      "Error for {'heat_source_T': 13, 'cond_in_T': 49, 'Q_Demand': 11000.0} inputs\n",
      "Error for {'heat_source_T': 13, 'cond_in_T': 49, 'Q_Demand': 11500.0} inputs\n",
      "Error for {'heat_source_T': 13, 'cond_in_T': 49, 'Q_Demand': 12000.0} inputs\n",
      "Error for {'heat_source_T': 13, 'cond_in_T': 49, 'Q_Demand': 12500.0} inputs\n",
      "Error for {'heat_source_T': 13, 'cond_in_T': 49, 'Q_Demand': 13000.0} inputs\n",
      "Error for {'heat_source_T': 13, 'cond_in_T': 49, 'Q_Demand': 13500.0} inputs\n",
      "Error for {'heat_source_T': 13, 'cond_in_T': 49, 'Q_Demand': 14000.0} inputs\n"
     ]
    },
    {
     "name": "stderr",
     "output_type": "stream",
     "text": [
      " 59%|█████▉    | 53/90 [08:21<07:30, 12.18s/it]"
     ]
    },
    {
     "name": "stdout",
     "output_type": "stream",
     "text": [
      "Error for {'heat_source_T': 13, 'cond_in_T': 49, 'Q_Demand': 14500.0} inputs\n",
      "Error for {'heat_source_T': 13, 'cond_in_T': 50, 'Q_Demand': 5500.0} inputs\n",
      "Error for {'heat_source_T': 13, 'cond_in_T': 50, 'Q_Demand': 6000.0} inputs\n",
      "Error for {'heat_source_T': 13, 'cond_in_T': 50, 'Q_Demand': 6500.0} inputs\n",
      "Error for {'heat_source_T': 13, 'cond_in_T': 50, 'Q_Demand': 7000.0} inputs\n",
      "Error for {'heat_source_T': 13, 'cond_in_T': 50, 'Q_Demand': 7500.0} inputs\n",
      "Error for {'heat_source_T': 13, 'cond_in_T': 50, 'Q_Demand': 8000.0} inputs\n",
      "Error for {'heat_source_T': 13, 'cond_in_T': 50, 'Q_Demand': 8500.0} inputs\n",
      "Error for {'heat_source_T': 13, 'cond_in_T': 50, 'Q_Demand': 9000.0} inputs\n",
      "Error for {'heat_source_T': 13, 'cond_in_T': 50, 'Q_Demand': 9500.0} inputs\n",
      "Error for {'heat_source_T': 13, 'cond_in_T': 50, 'Q_Demand': 10000.0} inputs\n",
      "Error for {'heat_source_T': 13, 'cond_in_T': 50, 'Q_Demand': 10500.0} inputs\n",
      "Error for {'heat_source_T': 13, 'cond_in_T': 50, 'Q_Demand': 11000.0} inputs\n",
      "Error for {'heat_source_T': 13, 'cond_in_T': 50, 'Q_Demand': 11500.0} inputs\n",
      "Error for {'heat_source_T': 13, 'cond_in_T': 50, 'Q_Demand': 12000.0} inputs\n",
      "Error for {'heat_source_T': 13, 'cond_in_T': 50, 'Q_Demand': 12500.0} inputs\n",
      "Error for {'heat_source_T': 13, 'cond_in_T': 50, 'Q_Demand': 13000.0} inputs\n",
      "Error for {'heat_source_T': 13, 'cond_in_T': 50, 'Q_Demand': 13500.0} inputs\n",
      "Error for {'heat_source_T': 13, 'cond_in_T': 50, 'Q_Demand': 14000.0} inputs\n"
     ]
    },
    {
     "name": "stderr",
     "output_type": "stream",
     "text": [
      " 61%|██████    | 55/90 [08:44<06:41, 11.47s/it]"
     ]
    },
    {
     "name": "stdout",
     "output_type": "stream",
     "text": [
      "Error for {'heat_source_T': 14, 'cond_in_T': 46, 'Q_Demand': 10000.0} inputs\n"
     ]
    },
    {
     "name": "stderr",
     "output_type": "stream",
     "text": [
      " 63%|██████▎   | 57/90 [08:58<05:03,  9.19s/it]"
     ]
    },
    {
     "name": "stdout",
     "output_type": "stream",
     "text": [
      "Error for {'heat_source_T': 14, 'cond_in_T': 48, 'Q_Demand': 5000.0} inputs\n",
      "Error for {'heat_source_T': 14, 'cond_in_T': 48, 'Q_Demand': 5500.0} inputs\n",
      "Error for {'heat_source_T': 14, 'cond_in_T': 48, 'Q_Demand': 6000.0} inputs\n",
      "Error for {'heat_source_T': 14, 'cond_in_T': 48, 'Q_Demand': 6500.0} inputs\n",
      "Error for {'heat_source_T': 14, 'cond_in_T': 48, 'Q_Demand': 7000.0} inputs\n",
      "Error for {'heat_source_T': 14, 'cond_in_T': 48, 'Q_Demand': 7500.0} inputs\n",
      "Error for {'heat_source_T': 14, 'cond_in_T': 48, 'Q_Demand': 8000.0} inputs\n",
      "Error for {'heat_source_T': 14, 'cond_in_T': 48, 'Q_Demand': 8500.0} inputs\n",
      "Error for {'heat_source_T': 14, 'cond_in_T': 48, 'Q_Demand': 9000.0} inputs\n",
      "Error for {'heat_source_T': 14, 'cond_in_T': 48, 'Q_Demand': 9500.0} inputs\n",
      "Error for {'heat_source_T': 14, 'cond_in_T': 48, 'Q_Demand': 10000.0} inputs\n",
      "Error for {'heat_source_T': 14, 'cond_in_T': 48, 'Q_Demand': 10500.0} inputs\n",
      "Error for {'heat_source_T': 14, 'cond_in_T': 48, 'Q_Demand': 11000.0} inputs\n",
      "Error for {'heat_source_T': 14, 'cond_in_T': 48, 'Q_Demand': 11500.0} inputs\n",
      "Error for {'heat_source_T': 14, 'cond_in_T': 48, 'Q_Demand': 12000.0} inputs\n",
      "Error for {'heat_source_T': 14, 'cond_in_T': 48, 'Q_Demand': 12500.0} inputs\n",
      "Error for {'heat_source_T': 14, 'cond_in_T': 48, 'Q_Demand': 13000.0} inputs\n",
      "Error for {'heat_source_T': 14, 'cond_in_T': 48, 'Q_Demand': 13500.0} inputs\n",
      "Error for {'heat_source_T': 14, 'cond_in_T': 48, 'Q_Demand': 14000.0} inputs\n",
      "Error for {'heat_source_T': 14, 'cond_in_T': 48, 'Q_Demand': 14500.0} inputs\n",
      "Error for {'heat_source_T': 14, 'cond_in_T': 48, 'Q_Demand': 15000.0} inputs\n"
     ]
    },
    {
     "name": "stderr",
     "output_type": "stream",
     "text": [
      " 64%|██████▍   | 58/90 [09:26<07:49, 14.67s/it]"
     ]
    },
    {
     "name": "stdout",
     "output_type": "stream",
     "text": [
      "Error for {'heat_source_T': 14, 'cond_in_T': 48, 'Q_Demand': 15500.0} inputs\n",
      "Error for {'heat_source_T': 14, 'cond_in_T': 49, 'Q_Demand': 5000.0} inputs\n",
      "Error for {'heat_source_T': 14, 'cond_in_T': 49, 'Q_Demand': 5500.0} inputs\n",
      "16:19:04-ERROR-Singularity in jacobian matrix, calculation aborted! Make sure your network does not have any linear dependencies in the parametrisation. Other reasons might be\n",
      "-> given temperature with given pressure in two phase region, try setting enthalpy instead or provide accurate starting value for pressure.\n",
      "-> given logarithmic temperature differences or kA-values for heat exchangers, \n",
      "-> support better starting values.\n",
      "-> bad starting value for fuel mass flow of combustion chamber, provide small (near to zero, but not zero) starting value.\n",
      "16:19:04-ERROR-Singularity in jacobian matrix, calculation aborted! Make sure your network does not have any linear dependencies in the parametrisation. Other reasons might be\n",
      "-> given temperature with given pressure in two phase region, try setting enthalpy instead or provide accurate starting value for pressure.\n",
      "-> given logarithmic temperature differences or kA-values for heat exchangers, \n",
      "-> support better starting values.\n",
      "-> bad starting value for fuel mass flow of combustion chamber, provide small (near to zero, but not zero) starting value.\n",
      "Error for {'heat_source_T': 14, 'cond_in_T': 49, 'Q_Demand': 7000.0} inputs\n"
     ]
    },
    {
     "name": "stderr",
     "output_type": "stream",
     "text": [
      " 66%|██████▌   | 59/90 [09:33<06:29, 12.56s/it]"
     ]
    },
    {
     "name": "stdout",
     "output_type": "stream",
     "text": [
      "16:19:10-ERROR-Singularity in jacobian matrix, calculation aborted! Make sure your network does not have any linear dependencies in the parametrisation. Other reasons might be\n",
      "-> given temperature with given pressure in two phase region, try setting enthalpy instead or provide accurate starting value for pressure.\n",
      "-> given logarithmic temperature differences or kA-values for heat exchangers, \n",
      "-> support better starting values.\n",
      "-> bad starting value for fuel mass flow of combustion chamber, provide small (near to zero, but not zero) starting value.\n",
      "Error for {'heat_source_T': 14, 'cond_in_T': 50, 'Q_Demand': 5000.0} inputs\n",
      "16:19:11-ERROR-Singularity in jacobian matrix, calculation aborted! Make sure your network does not have any linear dependencies in the parametrisation. Other reasons might be\n",
      "-> given temperature with given pressure in two phase region, try setting enthalpy instead or provide accurate starting value for pressure.\n",
      "-> given logarithmic temperature differences or kA-values for heat exchangers, \n",
      "-> support better starting values.\n",
      "-> bad starting value for fuel mass flow of combustion chamber, provide small (near to zero, but not zero) starting value.\n",
      "Error for {'heat_source_T': 14, 'cond_in_T': 50, 'Q_Demand': 5500.0} inputs\n",
      "16:19:12-ERROR-Singularity in jacobian matrix, calculation aborted! Make sure your network does not have any linear dependencies in the parametrisation. Other reasons might be\n",
      "-> given temperature with given pressure in two phase region, try setting enthalpy instead or provide accurate starting value for pressure.\n",
      "-> given logarithmic temperature differences or kA-values for heat exchangers, \n",
      "-> support better starting values.\n",
      "-> bad starting value for fuel mass flow of combustion chamber, provide small (near to zero, but not zero) starting value.\n",
      "Error for {'heat_source_T': 14, 'cond_in_T': 50, 'Q_Demand': 6500.0} inputs\n"
     ]
    },
    {
     "name": "stderr",
     "output_type": "stream",
     "text": [
      " 68%|██████▊   | 61/90 [09:49<04:51, 10.06s/it]"
     ]
    },
    {
     "name": "stdout",
     "output_type": "stream",
     "text": [
      "Error for {'heat_source_T': 15, 'cond_in_T': 46, 'Q_Demand': 10000.0} inputs\n"
     ]
    },
    {
     "name": "stderr",
     "output_type": "stream",
     "text": [
      " 70%|███████   | 63/90 [10:03<03:48,  8.48s/it]"
     ]
    },
    {
     "name": "stdout",
     "output_type": "stream",
     "text": [
      "16:19:40-ERROR-Singularity in jacobian matrix, calculation aborted! Make sure your network does not have any linear dependencies in the parametrisation. Other reasons might be\n",
      "-> given temperature with given pressure in two phase region, try setting enthalpy instead or provide accurate starting value for pressure.\n",
      "-> given logarithmic temperature differences or kA-values for heat exchangers, \n",
      "-> support better starting values.\n",
      "-> bad starting value for fuel mass flow of combustion chamber, provide small (near to zero, but not zero) starting value.\n",
      "Error for {'heat_source_T': 15, 'cond_in_T': 48, 'Q_Demand': 5000.0} inputs\n",
      "Error for {'heat_source_T': 15, 'cond_in_T': 48, 'Q_Demand': 5500.0} inputs\n",
      "Error for {'heat_source_T': 15, 'cond_in_T': 48, 'Q_Demand': 6000.0} inputs\n",
      "Error for {'heat_source_T': 15, 'cond_in_T': 48, 'Q_Demand': 6500.0} inputs\n",
      "16:19:44-ERROR-Singularity in jacobian matrix, calculation aborted! Make sure your network does not have any linear dependencies in the parametrisation. Other reasons might be\n",
      "-> given temperature with given pressure in two phase region, try setting enthalpy instead or provide accurate starting value for pressure.\n",
      "-> given logarithmic temperature differences or kA-values for heat exchangers, \n",
      "-> support better starting values.\n",
      "-> bad starting value for fuel mass flow of combustion chamber, provide small (near to zero, but not zero) starting value.\n",
      "Error for {'heat_source_T': 15, 'cond_in_T': 48, 'Q_Demand': 7000.0} inputs\n",
      "Error for {'heat_source_T': 15, 'cond_in_T': 48, 'Q_Demand': 7500.0} inputs\n",
      "Error for {'heat_source_T': 15, 'cond_in_T': 48, 'Q_Demand': 8000.0} inputs\n",
      "Error for {'heat_source_T': 15, 'cond_in_T': 48, 'Q_Demand': 8500.0} inputs\n",
      "Error for {'heat_source_T': 15, 'cond_in_T': 48, 'Q_Demand': 9000.0} inputs\n",
      "Error for {'heat_source_T': 15, 'cond_in_T': 48, 'Q_Demand': 9500.0} inputs\n",
      "Error for {'heat_source_T': 15, 'cond_in_T': 48, 'Q_Demand': 10000.0} inputs\n",
      "Error for {'heat_source_T': 15, 'cond_in_T': 48, 'Q_Demand': 10500.0} inputs\n",
      "Error for {'heat_source_T': 15, 'cond_in_T': 48, 'Q_Demand': 11000.0} inputs\n",
      "Error for {'heat_source_T': 15, 'cond_in_T': 48, 'Q_Demand': 11500.0} inputs\n",
      "Error for {'heat_source_T': 15, 'cond_in_T': 48, 'Q_Demand': 12000.0} inputs\n",
      "Error for {'heat_source_T': 15, 'cond_in_T': 48, 'Q_Demand': 12500.0} inputs\n",
      "Error for {'heat_source_T': 15, 'cond_in_T': 48, 'Q_Demand': 13000.0} inputs\n",
      "Error for {'heat_source_T': 15, 'cond_in_T': 48, 'Q_Demand': 13500.0} inputs\n",
      "Error for {'heat_source_T': 15, 'cond_in_T': 48, 'Q_Demand': 14000.0} inputs\n",
      "Error for {'heat_source_T': 15, 'cond_in_T': 48, 'Q_Demand': 14500.0} inputs\n",
      "Error for {'heat_source_T': 15, 'cond_in_T': 48, 'Q_Demand': 15000.0} inputs\n"
     ]
    },
    {
     "name": "stderr",
     "output_type": "stream",
     "text": [
      " 71%|███████   | 64/90 [10:20<04:47, 11.05s/it]"
     ]
    },
    {
     "name": "stdout",
     "output_type": "stream",
     "text": [
      "Error for {'heat_source_T': 15, 'cond_in_T': 48, 'Q_Demand': 15500.0} inputs\n",
      "Error for {'heat_source_T': 15, 'cond_in_T': 49, 'Q_Demand': 5000.0} inputs\n",
      "Error for {'heat_source_T': 15, 'cond_in_T': 49, 'Q_Demand': 5500.0} inputs\n",
      "Error for {'heat_source_T': 15, 'cond_in_T': 49, 'Q_Demand': 6000.0} inputs\n",
      "Error for {'heat_source_T': 15, 'cond_in_T': 49, 'Q_Demand': 6500.0} inputs\n",
      "Error for {'heat_source_T': 15, 'cond_in_T': 49, 'Q_Demand': 7000.0} inputs\n"
     ]
    },
    {
     "name": "stderr",
     "output_type": "stream",
     "text": [
      " 72%|███████▏  | 65/90 [10:27<04:10, 10.02s/it]"
     ]
    },
    {
     "name": "stdout",
     "output_type": "stream",
     "text": [
      "Error for {'heat_source_T': 15, 'cond_in_T': 50, 'Q_Demand': 5500.0} inputs\n",
      "Error for {'heat_source_T': 15, 'cond_in_T': 50, 'Q_Demand': 6000.0} inputs\n",
      "Error for {'heat_source_T': 15, 'cond_in_T': 50, 'Q_Demand': 6500.0} inputs\n",
      "Error for {'heat_source_T': 15, 'cond_in_T': 50, 'Q_Demand': 7000.0} inputs\n",
      "Error for {'heat_source_T': 15, 'cond_in_T': 50, 'Q_Demand': 7500.0} inputs\n",
      "Error for {'heat_source_T': 15, 'cond_in_T': 50, 'Q_Demand': 8000.0} inputs\n",
      "Error for {'heat_source_T': 15, 'cond_in_T': 50, 'Q_Demand': 8500.0} inputs\n",
      "Error for {'heat_source_T': 15, 'cond_in_T': 50, 'Q_Demand': 9000.0} inputs\n",
      "Error for {'heat_source_T': 15, 'cond_in_T': 50, 'Q_Demand': 9500.0} inputs\n",
      "Error for {'heat_source_T': 15, 'cond_in_T': 50, 'Q_Demand': 10000.0} inputs\n",
      "Error for {'heat_source_T': 15, 'cond_in_T': 50, 'Q_Demand': 10500.0} inputs\n",
      "Error for {'heat_source_T': 15, 'cond_in_T': 50, 'Q_Demand': 11000.0} inputs\n",
      "Error for {'heat_source_T': 15, 'cond_in_T': 50, 'Q_Demand': 11500.0} inputs\n",
      "Error for {'heat_source_T': 15, 'cond_in_T': 50, 'Q_Demand': 12000.0} inputs\n",
      "Error for {'heat_source_T': 15, 'cond_in_T': 50, 'Q_Demand': 12500.0} inputs\n",
      "Error for {'heat_source_T': 15, 'cond_in_T': 50, 'Q_Demand': 13000.0} inputs\n",
      "Error for {'heat_source_T': 15, 'cond_in_T': 50, 'Q_Demand': 13500.0} inputs\n",
      "Error for {'heat_source_T': 15, 'cond_in_T': 50, 'Q_Demand': 14000.0} inputs\n",
      "Error for {'heat_source_T': 15, 'cond_in_T': 50, 'Q_Demand': 14500.0} inputs\n",
      "Error for {'heat_source_T': 15, 'cond_in_T': 50, 'Q_Demand': 15000.0} inputs\n"
     ]
    },
    {
     "name": "stderr",
     "output_type": "stream",
     "text": [
      " 73%|███████▎  | 66/90 [10:47<05:07, 12.82s/it]"
     ]
    },
    {
     "name": "stdout",
     "output_type": "stream",
     "text": [
      "Error for {'heat_source_T': 15, 'cond_in_T': 50, 'Q_Demand': 15500.0} inputs\n"
     ]
    },
    {
     "name": "stderr",
     "output_type": "stream",
     "text": [
      " 74%|███████▍  | 67/90 [10:54<04:14, 11.08s/it]"
     ]
    },
    {
     "name": "stdout",
     "output_type": "stream",
     "text": [
      "Error for {'heat_source_T': 16, 'cond_in_T': 46, 'Q_Demand': 10000.0} inputs\n"
     ]
    },
    {
     "name": "stderr",
     "output_type": "stream",
     "text": [
      " 77%|███████▋  | 69/90 [11:08<03:09,  9.03s/it]"
     ]
    },
    {
     "name": "stdout",
     "output_type": "stream",
     "text": [
      "Error for {'heat_source_T': 16, 'cond_in_T': 48, 'Q_Demand': 5000.0} inputs\n",
      "Error for {'heat_source_T': 16, 'cond_in_T': 48, 'Q_Demand': 5500.0} inputs\n",
      "Error for {'heat_source_T': 16, 'cond_in_T': 48, 'Q_Demand': 6000.0} inputs\n",
      "Error for {'heat_source_T': 16, 'cond_in_T': 48, 'Q_Demand': 6500.0} inputs\n",
      "Error for {'heat_source_T': 16, 'cond_in_T': 48, 'Q_Demand': 7000.0} inputs\n",
      "Error for {'heat_source_T': 16, 'cond_in_T': 48, 'Q_Demand': 7500.0} inputs\n",
      "Error for {'heat_source_T': 16, 'cond_in_T': 48, 'Q_Demand': 8000.0} inputs\n",
      "Error for {'heat_source_T': 16, 'cond_in_T': 48, 'Q_Demand': 8500.0} inputs\n",
      "Error for {'heat_source_T': 16, 'cond_in_T': 48, 'Q_Demand': 9000.0} inputs\n",
      "Error for {'heat_source_T': 16, 'cond_in_T': 48, 'Q_Demand': 9500.0} inputs\n",
      "Error for {'heat_source_T': 16, 'cond_in_T': 48, 'Q_Demand': 10000.0} inputs\n",
      "Error for {'heat_source_T': 16, 'cond_in_T': 48, 'Q_Demand': 10500.0} inputs\n",
      "Error for {'heat_source_T': 16, 'cond_in_T': 48, 'Q_Demand': 11000.0} inputs\n",
      "Error for {'heat_source_T': 16, 'cond_in_T': 48, 'Q_Demand': 11500.0} inputs\n",
      "Error for {'heat_source_T': 16, 'cond_in_T': 48, 'Q_Demand': 12000.0} inputs\n",
      "Error for {'heat_source_T': 16, 'cond_in_T': 48, 'Q_Demand': 12500.0} inputs\n",
      "Error for {'heat_source_T': 16, 'cond_in_T': 48, 'Q_Demand': 13000.0} inputs\n",
      "Error for {'heat_source_T': 16, 'cond_in_T': 48, 'Q_Demand': 13500.0} inputs\n",
      "Error for {'heat_source_T': 16, 'cond_in_T': 48, 'Q_Demand': 14000.0} inputs\n",
      "Error for {'heat_source_T': 16, 'cond_in_T': 48, 'Q_Demand': 14500.0} inputs\n",
      "Error for {'heat_source_T': 16, 'cond_in_T': 48, 'Q_Demand': 15000.0} inputs\n"
     ]
    },
    {
     "name": "stderr",
     "output_type": "stream",
     "text": [
      " 78%|███████▊  | 70/90 [11:20<03:21, 10.10s/it]"
     ]
    },
    {
     "name": "stdout",
     "output_type": "stream",
     "text": [
      "Error for {'heat_source_T': 16, 'cond_in_T': 48, 'Q_Demand': 15500.0} inputs\n",
      "Error for {'heat_source_T': 16, 'cond_in_T': 49, 'Q_Demand': 5000.0} inputs\n",
      "Error for {'heat_source_T': 16, 'cond_in_T': 49, 'Q_Demand': 5500.0} inputs\n",
      "Error for {'heat_source_T': 16, 'cond_in_T': 49, 'Q_Demand': 6000.0} inputs\n",
      "Error for {'heat_source_T': 16, 'cond_in_T': 49, 'Q_Demand': 6500.0} inputs\n",
      "Error for {'heat_source_T': 16, 'cond_in_T': 49, 'Q_Demand': 7000.0} inputs\n",
      "Error for {'heat_source_T': 16, 'cond_in_T': 49, 'Q_Demand': 7500.0} inputs\n",
      "Error for {'heat_source_T': 16, 'cond_in_T': 49, 'Q_Demand': 8000.0} inputs\n",
      "Error for {'heat_source_T': 16, 'cond_in_T': 49, 'Q_Demand': 8500.0} inputs\n",
      "Error for {'heat_source_T': 16, 'cond_in_T': 49, 'Q_Demand': 9000.0} inputs\n",
      "Error for {'heat_source_T': 16, 'cond_in_T': 49, 'Q_Demand': 9500.0} inputs\n",
      "Error for {'heat_source_T': 16, 'cond_in_T': 49, 'Q_Demand': 10000.0} inputs\n",
      "Error for {'heat_source_T': 16, 'cond_in_T': 49, 'Q_Demand': 10500.0} inputs\n",
      "Error for {'heat_source_T': 16, 'cond_in_T': 49, 'Q_Demand': 11000.0} inputs\n",
      "Error for {'heat_source_T': 16, 'cond_in_T': 49, 'Q_Demand': 11500.0} inputs\n",
      "Error for {'heat_source_T': 16, 'cond_in_T': 49, 'Q_Demand': 12000.0} inputs\n",
      "Error for {'heat_source_T': 16, 'cond_in_T': 49, 'Q_Demand': 12500.0} inputs\n",
      "Error for {'heat_source_T': 16, 'cond_in_T': 49, 'Q_Demand': 13000.0} inputs\n",
      "Error for {'heat_source_T': 16, 'cond_in_T': 49, 'Q_Demand': 13500.0} inputs\n",
      "Error for {'heat_source_T': 16, 'cond_in_T': 49, 'Q_Demand': 14000.0} inputs\n",
      "Error for {'heat_source_T': 16, 'cond_in_T': 49, 'Q_Demand': 14500.0} inputs\n",
      "Error for {'heat_source_T': 16, 'cond_in_T': 49, 'Q_Demand': 15000.0} inputs\n"
     ]
    },
    {
     "name": "stderr",
     "output_type": "stream",
     "text": [
      " 79%|███████▉  | 71/90 [11:43<04:23, 13.87s/it]"
     ]
    },
    {
     "name": "stdout",
     "output_type": "stream",
     "text": [
      "Error for {'heat_source_T': 16, 'cond_in_T': 49, 'Q_Demand': 15500.0} inputs\n",
      "Error for {'heat_source_T': 16, 'cond_in_T': 50, 'Q_Demand': 5000.0} inputs\n",
      "Error for {'heat_source_T': 16, 'cond_in_T': 50, 'Q_Demand': 5500.0} inputs\n",
      "Error for {'heat_source_T': 16, 'cond_in_T': 50, 'Q_Demand': 6000.0} inputs\n",
      "Error for {'heat_source_T': 16, 'cond_in_T': 50, 'Q_Demand': 6500.0} inputs\n",
      "Error for {'heat_source_T': 16, 'cond_in_T': 50, 'Q_Demand': 7000.0} inputs\n",
      "Error for {'heat_source_T': 16, 'cond_in_T': 50, 'Q_Demand': 7500.0} inputs\n",
      "Error for {'heat_source_T': 16, 'cond_in_T': 50, 'Q_Demand': 8000.0} inputs\n",
      "Error for {'heat_source_T': 16, 'cond_in_T': 50, 'Q_Demand': 8500.0} inputs\n",
      "Error for {'heat_source_T': 16, 'cond_in_T': 50, 'Q_Demand': 9000.0} inputs\n",
      "Error for {'heat_source_T': 16, 'cond_in_T': 50, 'Q_Demand': 9500.0} inputs\n",
      "Error for {'heat_source_T': 16, 'cond_in_T': 50, 'Q_Demand': 10000.0} inputs\n",
      "Error for {'heat_source_T': 16, 'cond_in_T': 50, 'Q_Demand': 10500.0} inputs\n",
      "Error for {'heat_source_T': 16, 'cond_in_T': 50, 'Q_Demand': 11000.0} inputs\n",
      "Error for {'heat_source_T': 16, 'cond_in_T': 50, 'Q_Demand': 11500.0} inputs\n",
      "Error for {'heat_source_T': 16, 'cond_in_T': 50, 'Q_Demand': 12000.0} inputs\n",
      "Error for {'heat_source_T': 16, 'cond_in_T': 50, 'Q_Demand': 12500.0} inputs\n",
      "Error for {'heat_source_T': 16, 'cond_in_T': 50, 'Q_Demand': 13000.0} inputs\n",
      "Error for {'heat_source_T': 16, 'cond_in_T': 50, 'Q_Demand': 13500.0} inputs\n",
      "Error for {'heat_source_T': 16, 'cond_in_T': 50, 'Q_Demand': 14000.0} inputs\n",
      "Error for {'heat_source_T': 16, 'cond_in_T': 50, 'Q_Demand': 14500.0} inputs\n",
      "Error for {'heat_source_T': 16, 'cond_in_T': 50, 'Q_Demand': 15000.0} inputs\n"
     ]
    },
    {
     "name": "stderr",
     "output_type": "stream",
     "text": [
      " 80%|████████  | 72/90 [11:56<04:02, 13.49s/it]"
     ]
    },
    {
     "name": "stdout",
     "output_type": "stream",
     "text": [
      "Error for {'heat_source_T': 16, 'cond_in_T': 50, 'Q_Demand': 15500.0} inputs\n"
     ]
    },
    {
     "name": "stderr",
     "output_type": "stream",
     "text": [
      " 81%|████████  | 73/90 [12:03<03:16, 11.55s/it]"
     ]
    },
    {
     "name": "stdout",
     "output_type": "stream",
     "text": [
      "Error for {'heat_source_T': 17, 'cond_in_T': 46, 'Q_Demand': 10000.0} inputs\n"
     ]
    },
    {
     "name": "stderr",
     "output_type": "stream",
     "text": [
      " 83%|████████▎ | 75/90 [12:17<02:18,  9.22s/it]"
     ]
    },
    {
     "name": "stdout",
     "output_type": "stream",
     "text": [
      "Error for {'heat_source_T': 17, 'cond_in_T': 48, 'Q_Demand': 5000.0} inputs\n",
      "Error for {'heat_source_T': 17, 'cond_in_T': 48, 'Q_Demand': 5500.0} inputs\n",
      "Error for {'heat_source_T': 17, 'cond_in_T': 48, 'Q_Demand': 6000.0} inputs\n",
      "Error for {'heat_source_T': 17, 'cond_in_T': 48, 'Q_Demand': 6500.0} inputs\n",
      "Error for {'heat_source_T': 17, 'cond_in_T': 48, 'Q_Demand': 7000.0} inputs\n",
      "Error for {'heat_source_T': 17, 'cond_in_T': 48, 'Q_Demand': 7500.0} inputs\n",
      "Error for {'heat_source_T': 17, 'cond_in_T': 48, 'Q_Demand': 8000.0} inputs\n",
      "Error for {'heat_source_T': 17, 'cond_in_T': 48, 'Q_Demand': 8500.0} inputs\n",
      "Error for {'heat_source_T': 17, 'cond_in_T': 48, 'Q_Demand': 9000.0} inputs\n",
      "Error for {'heat_source_T': 17, 'cond_in_T': 48, 'Q_Demand': 9500.0} inputs\n",
      "Error for {'heat_source_T': 17, 'cond_in_T': 48, 'Q_Demand': 10000.0} inputs\n",
      "Error for {'heat_source_T': 17, 'cond_in_T': 48, 'Q_Demand': 10500.0} inputs\n",
      "Error for {'heat_source_T': 17, 'cond_in_T': 48, 'Q_Demand': 11000.0} inputs\n",
      "Error for {'heat_source_T': 17, 'cond_in_T': 48, 'Q_Demand': 11500.0} inputs\n",
      "Error for {'heat_source_T': 17, 'cond_in_T': 48, 'Q_Demand': 12000.0} inputs\n",
      "Error for {'heat_source_T': 17, 'cond_in_T': 48, 'Q_Demand': 12500.0} inputs\n",
      "Error for {'heat_source_T': 17, 'cond_in_T': 48, 'Q_Demand': 13000.0} inputs\n",
      "Error for {'heat_source_T': 17, 'cond_in_T': 48, 'Q_Demand': 13500.0} inputs\n",
      "Error for {'heat_source_T': 17, 'cond_in_T': 48, 'Q_Demand': 14000.0} inputs\n",
      "Error for {'heat_source_T': 17, 'cond_in_T': 48, 'Q_Demand': 14500.0} inputs\n",
      "Error for {'heat_source_T': 17, 'cond_in_T': 48, 'Q_Demand': 15000.0} inputs\n"
     ]
    },
    {
     "name": "stderr",
     "output_type": "stream",
     "text": [
      " 84%|████████▍ | 76/90 [12:31<02:29, 10.65s/it]"
     ]
    },
    {
     "name": "stdout",
     "output_type": "stream",
     "text": [
      "Error for {'heat_source_T': 17, 'cond_in_T': 48, 'Q_Demand': 15500.0} inputs\n",
      "16:22:08-ERROR-Singularity in jacobian matrix, calculation aborted! Make sure your network does not have any linear dependencies in the parametrisation. Other reasons might be\n",
      "-> given temperature with given pressure in two phase region, try setting enthalpy instead or provide accurate starting value for pressure.\n",
      "-> given logarithmic temperature differences or kA-values for heat exchangers, \n",
      "-> support better starting values.\n",
      "-> bad starting value for fuel mass flow of combustion chamber, provide small (near to zero, but not zero) starting value.\n",
      "Error for {'heat_source_T': 17, 'cond_in_T': 49, 'Q_Demand': 5000.0} inputs\n",
      "Error for {'heat_source_T': 17, 'cond_in_T': 49, 'Q_Demand': 6000.0} inputs\n",
      "Error for {'heat_source_T': 17, 'cond_in_T': 49, 'Q_Demand': 6500.0} inputs\n",
      "Error for {'heat_source_T': 17, 'cond_in_T': 49, 'Q_Demand': 7000.0} inputs\n",
      "Error for {'heat_source_T': 17, 'cond_in_T': 49, 'Q_Demand': 7500.0} inputs\n",
      "Error for {'heat_source_T': 17, 'cond_in_T': 49, 'Q_Demand': 8000.0} inputs\n",
      "Error for {'heat_source_T': 17, 'cond_in_T': 49, 'Q_Demand': 8500.0} inputs\n",
      "Error for {'heat_source_T': 17, 'cond_in_T': 49, 'Q_Demand': 9000.0} inputs\n",
      "Error for {'heat_source_T': 17, 'cond_in_T': 49, 'Q_Demand': 9500.0} inputs\n",
      "Error for {'heat_source_T': 17, 'cond_in_T': 49, 'Q_Demand': 10000.0} inputs\n",
      "Error for {'heat_source_T': 17, 'cond_in_T': 49, 'Q_Demand': 10500.0} inputs\n",
      "Error for {'heat_source_T': 17, 'cond_in_T': 49, 'Q_Demand': 11000.0} inputs\n",
      "Error for {'heat_source_T': 17, 'cond_in_T': 49, 'Q_Demand': 11500.0} inputs\n",
      "Error for {'heat_source_T': 17, 'cond_in_T': 49, 'Q_Demand': 12000.0} inputs\n",
      "Error for {'heat_source_T': 17, 'cond_in_T': 49, 'Q_Demand': 12500.0} inputs\n",
      "Error for {'heat_source_T': 17, 'cond_in_T': 49, 'Q_Demand': 13000.0} inputs\n",
      "Error for {'heat_source_T': 17, 'cond_in_T': 49, 'Q_Demand': 13500.0} inputs\n",
      "Error for {'heat_source_T': 17, 'cond_in_T': 49, 'Q_Demand': 14000.0} inputs\n",
      "Error for {'heat_source_T': 17, 'cond_in_T': 49, 'Q_Demand': 14500.0} inputs\n",
      "Error for {'heat_source_T': 17, 'cond_in_T': 49, 'Q_Demand': 15000.0} inputs\n"
     ]
    },
    {
     "name": "stderr",
     "output_type": "stream",
     "text": [
      " 86%|████████▌ | 77/90 [12:51<02:57, 13.62s/it]"
     ]
    },
    {
     "name": "stdout",
     "output_type": "stream",
     "text": [
      "Error for {'heat_source_T': 17, 'cond_in_T': 49, 'Q_Demand': 15500.0} inputs\n",
      "Error for {'heat_source_T': 17, 'cond_in_T': 50, 'Q_Demand': 5500.0} inputs\n",
      "Error for {'heat_source_T': 17, 'cond_in_T': 50, 'Q_Demand': 6000.0} inputs\n",
      "Error for {'heat_source_T': 17, 'cond_in_T': 50, 'Q_Demand': 6500.0} inputs\n",
      "Error for {'heat_source_T': 17, 'cond_in_T': 50, 'Q_Demand': 7000.0} inputs\n",
      "Error for {'heat_source_T': 17, 'cond_in_T': 50, 'Q_Demand': 7500.0} inputs\n",
      "Error for {'heat_source_T': 17, 'cond_in_T': 50, 'Q_Demand': 8000.0} inputs\n",
      "Error for {'heat_source_T': 17, 'cond_in_T': 50, 'Q_Demand': 8500.0} inputs\n",
      "Error for {'heat_source_T': 17, 'cond_in_T': 50, 'Q_Demand': 9000.0} inputs\n",
      "Error for {'heat_source_T': 17, 'cond_in_T': 50, 'Q_Demand': 9500.0} inputs\n",
      "Error for {'heat_source_T': 17, 'cond_in_T': 50, 'Q_Demand': 10000.0} inputs\n",
      "Error for {'heat_source_T': 17, 'cond_in_T': 50, 'Q_Demand': 10500.0} inputs\n",
      "Error for {'heat_source_T': 17, 'cond_in_T': 50, 'Q_Demand': 11000.0} inputs\n",
      "Error for {'heat_source_T': 17, 'cond_in_T': 50, 'Q_Demand': 11500.0} inputs\n",
      "Error for {'heat_source_T': 17, 'cond_in_T': 50, 'Q_Demand': 12000.0} inputs\n",
      "Error for {'heat_source_T': 17, 'cond_in_T': 50, 'Q_Demand': 12500.0} inputs\n",
      "Error for {'heat_source_T': 17, 'cond_in_T': 50, 'Q_Demand': 13000.0} inputs\n",
      "Error for {'heat_source_T': 17, 'cond_in_T': 50, 'Q_Demand': 13500.0} inputs\n",
      "Error for {'heat_source_T': 17, 'cond_in_T': 50, 'Q_Demand': 14000.0} inputs\n",
      "Error for {'heat_source_T': 17, 'cond_in_T': 50, 'Q_Demand': 14500.0} inputs\n",
      "Error for {'heat_source_T': 17, 'cond_in_T': 50, 'Q_Demand': 15000.0} inputs\n"
     ]
    },
    {
     "name": "stderr",
     "output_type": "stream",
     "text": [
      " 87%|████████▋ | 78/90 [13:08<02:53, 14.47s/it]"
     ]
    },
    {
     "name": "stdout",
     "output_type": "stream",
     "text": [
      "Error for {'heat_source_T': 17, 'cond_in_T': 50, 'Q_Demand': 15500.0} inputs\n"
     ]
    },
    {
     "name": "stderr",
     "output_type": "stream",
     "text": [
      " 90%|█████████ | 81/90 [13:46<02:00, 13.39s/it]"
     ]
    },
    {
     "name": "stdout",
     "output_type": "stream",
     "text": [
      "Error for {'heat_source_T': 18, 'cond_in_T': 48, 'Q_Demand': 5000.0} inputs\n",
      "Error for {'heat_source_T': 18, 'cond_in_T': 48, 'Q_Demand': 5500.0} inputs\n",
      "Error for {'heat_source_T': 18, 'cond_in_T': 48, 'Q_Demand': 6000.0} inputs\n",
      "Error for {'heat_source_T': 18, 'cond_in_T': 48, 'Q_Demand': 6500.0} inputs\n",
      "Error for {'heat_source_T': 18, 'cond_in_T': 48, 'Q_Demand': 7000.0} inputs\n",
      "Error for {'heat_source_T': 18, 'cond_in_T': 48, 'Q_Demand': 7500.0} inputs\n",
      "Error for {'heat_source_T': 18, 'cond_in_T': 48, 'Q_Demand': 8000.0} inputs\n",
      "Error for {'heat_source_T': 18, 'cond_in_T': 48, 'Q_Demand': 8500.0} inputs\n",
      "Error for {'heat_source_T': 18, 'cond_in_T': 48, 'Q_Demand': 9000.0} inputs\n",
      "Error for {'heat_source_T': 18, 'cond_in_T': 48, 'Q_Demand': 9500.0} inputs\n",
      "Error for {'heat_source_T': 18, 'cond_in_T': 48, 'Q_Demand': 10000.0} inputs\n",
      "Error for {'heat_source_T': 18, 'cond_in_T': 48, 'Q_Demand': 10500.0} inputs\n",
      "Error for {'heat_source_T': 18, 'cond_in_T': 48, 'Q_Demand': 11000.0} inputs\n",
      "Error for {'heat_source_T': 18, 'cond_in_T': 48, 'Q_Demand': 11500.0} inputs\n",
      "Error for {'heat_source_T': 18, 'cond_in_T': 48, 'Q_Demand': 12000.0} inputs\n",
      "Error for {'heat_source_T': 18, 'cond_in_T': 48, 'Q_Demand': 12500.0} inputs\n",
      "Error for {'heat_source_T': 18, 'cond_in_T': 48, 'Q_Demand': 13000.0} inputs\n",
      "Error for {'heat_source_T': 18, 'cond_in_T': 48, 'Q_Demand': 13500.0} inputs\n",
      "Error for {'heat_source_T': 18, 'cond_in_T': 48, 'Q_Demand': 14000.0} inputs\n",
      "Error for {'heat_source_T': 18, 'cond_in_T': 48, 'Q_Demand': 14500.0} inputs\n",
      "Error for {'heat_source_T': 18, 'cond_in_T': 48, 'Q_Demand': 15000.0} inputs\n",
      "Error for {'heat_source_T': 18, 'cond_in_T': 48, 'Q_Demand': 15500.0} inputs\n",
      "Error for {'heat_source_T': 18, 'cond_in_T': 48, 'Q_Demand': 16000.0} inputs\n",
      "Error for {'heat_source_T': 18, 'cond_in_T': 48, 'Q_Demand': 16500.0} inputs\n",
      "Error for {'heat_source_T': 18, 'cond_in_T': 48, 'Q_Demand': 17000.0} inputs\n",
      "Error for {'heat_source_T': 18, 'cond_in_T': 48, 'Q_Demand': 17500.0} inputs\n"
     ]
    },
    {
     "name": "stderr",
     "output_type": "stream",
     "text": [
      " 91%|█████████ | 82/90 [14:03<01:56, 14.51s/it]"
     ]
    },
    {
     "name": "stdout",
     "output_type": "stream",
     "text": [
      "Error for {'heat_source_T': 18, 'cond_in_T': 48, 'Q_Demand': 18000.0} inputs\n",
      "Error for {'heat_source_T': 18, 'cond_in_T': 49, 'Q_Demand': 5000.0} inputs\n",
      "Error for {'heat_source_T': 18, 'cond_in_T': 49, 'Q_Demand': 5500.0} inputs\n",
      "Error for {'heat_source_T': 18, 'cond_in_T': 49, 'Q_Demand': 6000.0} inputs\n",
      "Error for {'heat_source_T': 18, 'cond_in_T': 49, 'Q_Demand': 6500.0} inputs\n",
      "Error for {'heat_source_T': 18, 'cond_in_T': 49, 'Q_Demand': 7000.0} inputs\n",
      "Error for {'heat_source_T': 18, 'cond_in_T': 49, 'Q_Demand': 7500.0} inputs\n",
      "Error for {'heat_source_T': 18, 'cond_in_T': 49, 'Q_Demand': 8000.0} inputs\n",
      "Error for {'heat_source_T': 18, 'cond_in_T': 49, 'Q_Demand': 8500.0} inputs\n",
      "Error for {'heat_source_T': 18, 'cond_in_T': 49, 'Q_Demand': 9000.0} inputs\n",
      "Error for {'heat_source_T': 18, 'cond_in_T': 49, 'Q_Demand': 9500.0} inputs\n",
      "Error for {'heat_source_T': 18, 'cond_in_T': 49, 'Q_Demand': 10000.0} inputs\n",
      "Error for {'heat_source_T': 18, 'cond_in_T': 49, 'Q_Demand': 10500.0} inputs\n",
      "Error for {'heat_source_T': 18, 'cond_in_T': 49, 'Q_Demand': 11000.0} inputs\n",
      "Error for {'heat_source_T': 18, 'cond_in_T': 49, 'Q_Demand': 11500.0} inputs\n",
      "Error for {'heat_source_T': 18, 'cond_in_T': 49, 'Q_Demand': 12000.0} inputs\n",
      "Error for {'heat_source_T': 18, 'cond_in_T': 49, 'Q_Demand': 12500.0} inputs\n",
      "Error for {'heat_source_T': 18, 'cond_in_T': 49, 'Q_Demand': 13000.0} inputs\n",
      "Error for {'heat_source_T': 18, 'cond_in_T': 49, 'Q_Demand': 13500.0} inputs\n",
      "Error for {'heat_source_T': 18, 'cond_in_T': 49, 'Q_Demand': 14000.0} inputs\n",
      "Error for {'heat_source_T': 18, 'cond_in_T': 49, 'Q_Demand': 14500.0} inputs\n",
      "Error for {'heat_source_T': 18, 'cond_in_T': 49, 'Q_Demand': 15000.0} inputs\n",
      "Error for {'heat_source_T': 18, 'cond_in_T': 49, 'Q_Demand': 15500.0} inputs\n",
      "Error for {'heat_source_T': 18, 'cond_in_T': 49, 'Q_Demand': 16000.0} inputs\n",
      "Error for {'heat_source_T': 18, 'cond_in_T': 49, 'Q_Demand': 16500.0} inputs\n",
      "Error for {'heat_source_T': 18, 'cond_in_T': 49, 'Q_Demand': 17000.0} inputs\n"
     ]
    },
    {
     "name": "stderr",
     "output_type": "stream",
     "text": [
      " 92%|█████████▏| 83/90 [14:22<01:52, 16.08s/it]"
     ]
    },
    {
     "name": "stdout",
     "output_type": "stream",
     "text": [
      "Error for {'heat_source_T': 18, 'cond_in_T': 49, 'Q_Demand': 17500.0} inputs\n",
      "Error for {'heat_source_T': 18, 'cond_in_T': 49, 'Q_Demand': 18000.0} inputs\n",
      "Error for {'heat_source_T': 18, 'cond_in_T': 50, 'Q_Demand': 5000.0} inputs\n",
      "16:24:00-ERROR-Singularity in jacobian matrix, calculation aborted! Make sure your network does not have any linear dependencies in the parametrisation. Other reasons might be\n",
      "-> given temperature with given pressure in two phase region, try setting enthalpy instead or provide accurate starting value for pressure.\n",
      "-> given logarithmic temperature differences or kA-values for heat exchangers, \n",
      "-> support better starting values.\n",
      "-> bad starting value for fuel mass flow of combustion chamber, provide small (near to zero, but not zero) starting value.\n",
      "Error for {'heat_source_T': 18, 'cond_in_T': 50, 'Q_Demand': 5500.0} inputs\n",
      "16:24:01-ERROR-Singularity in jacobian matrix, calculation aborted! Make sure your network does not have any linear dependencies in the parametrisation. Other reasons might be\n",
      "-> given temperature with given pressure in two phase region, try setting enthalpy instead or provide accurate starting value for pressure.\n",
      "-> given logarithmic temperature differences or kA-values for heat exchangers, \n",
      "-> support better starting values.\n",
      "-> bad starting value for fuel mass flow of combustion chamber, provide small (near to zero, but not zero) starting value.\n",
      "Error for {'heat_source_T': 18, 'cond_in_T': 50, 'Q_Demand': 6500.0} inputs\n",
      "Error for {'heat_source_T': 18, 'cond_in_T': 50, 'Q_Demand': 7000.0} inputs\n",
      "Error for {'heat_source_T': 18, 'cond_in_T': 50, 'Q_Demand': 7500.0} inputs\n",
      "Error for {'heat_source_T': 18, 'cond_in_T': 50, 'Q_Demand': 8000.0} inputs\n",
      "Error for {'heat_source_T': 18, 'cond_in_T': 50, 'Q_Demand': 8500.0} inputs\n",
      "Error for {'heat_source_T': 18, 'cond_in_T': 50, 'Q_Demand': 9000.0} inputs\n",
      "Error for {'heat_source_T': 18, 'cond_in_T': 50, 'Q_Demand': 9500.0} inputs\n",
      "Error for {'heat_source_T': 18, 'cond_in_T': 50, 'Q_Demand': 10000.0} inputs\n",
      "Error for {'heat_source_T': 18, 'cond_in_T': 50, 'Q_Demand': 10500.0} inputs\n",
      "Error for {'heat_source_T': 18, 'cond_in_T': 50, 'Q_Demand': 11000.0} inputs\n",
      "Error for {'heat_source_T': 18, 'cond_in_T': 50, 'Q_Demand': 11500.0} inputs\n",
      "Error for {'heat_source_T': 18, 'cond_in_T': 50, 'Q_Demand': 12000.0} inputs\n",
      "Error for {'heat_source_T': 18, 'cond_in_T': 50, 'Q_Demand': 12500.0} inputs\n",
      "Error for {'heat_source_T': 18, 'cond_in_T': 50, 'Q_Demand': 13000.0} inputs\n",
      "Error for {'heat_source_T': 18, 'cond_in_T': 50, 'Q_Demand': 13500.0} inputs\n",
      "Error for {'heat_source_T': 18, 'cond_in_T': 50, 'Q_Demand': 14000.0} inputs\n",
      "Error for {'heat_source_T': 18, 'cond_in_T': 50, 'Q_Demand': 14500.0} inputs\n",
      "Error for {'heat_source_T': 18, 'cond_in_T': 50, 'Q_Demand': 15000.0} inputs\n",
      "Error for {'heat_source_T': 18, 'cond_in_T': 50, 'Q_Demand': 15500.0} inputs\n",
      "Error for {'heat_source_T': 18, 'cond_in_T': 50, 'Q_Demand': 16000.0} inputs\n",
      "Error for {'heat_source_T': 18, 'cond_in_T': 50, 'Q_Demand': 16500.0} inputs\n",
      "Error for {'heat_source_T': 18, 'cond_in_T': 50, 'Q_Demand': 17000.0} inputs\n"
     ]
    },
    {
     "name": "stderr",
     "output_type": "stream",
     "text": [
      " 93%|█████████▎| 84/90 [15:03<02:20, 23.40s/it]"
     ]
    },
    {
     "name": "stdout",
     "output_type": "stream",
     "text": [
      "Error for {'heat_source_T': 18, 'cond_in_T': 50, 'Q_Demand': 17500.0} inputs\n",
      "Error for {'heat_source_T': 18, 'cond_in_T': 50, 'Q_Demand': 18000.0} inputs\n"
     ]
    },
    {
     "name": "stderr",
     "output_type": "stream",
     "text": [
      " 98%|█████████▊| 88/90 [15:45<00:26, 13.09s/it]"
     ]
    },
    {
     "name": "stdout",
     "output_type": "stream",
     "text": [
      "Error for {'heat_source_T': 19, 'cond_in_T': 49, 'Q_Demand': 5000.0} inputs\n",
      "16:25:23-ERROR-Singularity in jacobian matrix, calculation aborted! Make sure your network does not have any linear dependencies in the parametrisation. Other reasons might be\n",
      "-> given temperature with given pressure in two phase region, try setting enthalpy instead or provide accurate starting value for pressure.\n",
      "-> given logarithmic temperature differences or kA-values for heat exchangers, \n",
      "-> support better starting values.\n",
      "-> bad starting value for fuel mass flow of combustion chamber, provide small (near to zero, but not zero) starting value.\n",
      "Error for {'heat_source_T': 19, 'cond_in_T': 49, 'Q_Demand': 5500.0} inputs\n",
      "16:25:24-ERROR-Singularity in jacobian matrix, calculation aborted! Make sure your network does not have any linear dependencies in the parametrisation. Other reasons might be\n",
      "-> given temperature with given pressure in two phase region, try setting enthalpy instead or provide accurate starting value for pressure.\n",
      "-> given logarithmic temperature differences or kA-values for heat exchangers, \n",
      "-> support better starting values.\n",
      "-> bad starting value for fuel mass flow of combustion chamber, provide small (near to zero, but not zero) starting value.\n",
      "Error for {'heat_source_T': 19, 'cond_in_T': 49, 'Q_Demand': 6500.0} inputs\n",
      "Error for {'heat_source_T': 19, 'cond_in_T': 49, 'Q_Demand': 7000.0} inputs\n",
      "Error for {'heat_source_T': 19, 'cond_in_T': 49, 'Q_Demand': 7500.0} inputs\n",
      "Error for {'heat_source_T': 19, 'cond_in_T': 49, 'Q_Demand': 8000.0} inputs\n",
      "Error for {'heat_source_T': 19, 'cond_in_T': 49, 'Q_Demand': 8500.0} inputs\n",
      "Error for {'heat_source_T': 19, 'cond_in_T': 49, 'Q_Demand': 9000.0} inputs\n",
      "Error for {'heat_source_T': 19, 'cond_in_T': 49, 'Q_Demand': 9500.0} inputs\n",
      "Error for {'heat_source_T': 19, 'cond_in_T': 49, 'Q_Demand': 10000.0} inputs\n",
      "Error for {'heat_source_T': 19, 'cond_in_T': 49, 'Q_Demand': 10500.0} inputs\n",
      "Error for {'heat_source_T': 19, 'cond_in_T': 49, 'Q_Demand': 11000.0} inputs\n",
      "Error for {'heat_source_T': 19, 'cond_in_T': 49, 'Q_Demand': 11500.0} inputs\n",
      "Error for {'heat_source_T': 19, 'cond_in_T': 49, 'Q_Demand': 12000.0} inputs\n",
      "Error for {'heat_source_T': 19, 'cond_in_T': 49, 'Q_Demand': 12500.0} inputs\n",
      "Error for {'heat_source_T': 19, 'cond_in_T': 49, 'Q_Demand': 13000.0} inputs\n",
      "Error for {'heat_source_T': 19, 'cond_in_T': 49, 'Q_Demand': 13500.0} inputs\n",
      "Error for {'heat_source_T': 19, 'cond_in_T': 49, 'Q_Demand': 14000.0} inputs\n",
      "Error for {'heat_source_T': 19, 'cond_in_T': 49, 'Q_Demand': 14500.0} inputs\n",
      "Error for {'heat_source_T': 19, 'cond_in_T': 49, 'Q_Demand': 15000.0} inputs\n",
      "Error for {'heat_source_T': 19, 'cond_in_T': 49, 'Q_Demand': 15500.0} inputs\n",
      "Error for {'heat_source_T': 19, 'cond_in_T': 49, 'Q_Demand': 16000.0} inputs\n",
      "Error for {'heat_source_T': 19, 'cond_in_T': 49, 'Q_Demand': 16500.0} inputs\n",
      "Error for {'heat_source_T': 19, 'cond_in_T': 49, 'Q_Demand': 17000.0} inputs\n",
      "Error for {'heat_source_T': 19, 'cond_in_T': 49, 'Q_Demand': 17500.0} inputs\n"
     ]
    },
    {
     "name": "stderr",
     "output_type": "stream",
     "text": [
      " 99%|█████████▉| 89/90 [15:57<00:12, 12.67s/it]"
     ]
    },
    {
     "name": "stdout",
     "output_type": "stream",
     "text": [
      "Error for {'heat_source_T': 19, 'cond_in_T': 49, 'Q_Demand': 18000.0} inputs\n",
      "Error for {'heat_source_T': 19, 'cond_in_T': 50, 'Q_Demand': 5000.0} inputs\n",
      "Error for {'heat_source_T': 19, 'cond_in_T': 50, 'Q_Demand': 6000.0} inputs\n",
      "Error for {'heat_source_T': 19, 'cond_in_T': 50, 'Q_Demand': 6500.0} inputs\n",
      "Error for {'heat_source_T': 19, 'cond_in_T': 50, 'Q_Demand': 7000.0} inputs\n",
      "Error for {'heat_source_T': 19, 'cond_in_T': 50, 'Q_Demand': 7500.0} inputs\n",
      "Error for {'heat_source_T': 19, 'cond_in_T': 50, 'Q_Demand': 8000.0} inputs\n",
      "Error for {'heat_source_T': 19, 'cond_in_T': 50, 'Q_Demand': 8500.0} inputs\n",
      "Error for {'heat_source_T': 19, 'cond_in_T': 50, 'Q_Demand': 9000.0} inputs\n",
      "Error for {'heat_source_T': 19, 'cond_in_T': 50, 'Q_Demand': 9500.0} inputs\n",
      "Error for {'heat_source_T': 19, 'cond_in_T': 50, 'Q_Demand': 10000.0} inputs\n",
      "Error for {'heat_source_T': 19, 'cond_in_T': 50, 'Q_Demand': 10500.0} inputs\n",
      "Error for {'heat_source_T': 19, 'cond_in_T': 50, 'Q_Demand': 11000.0} inputs\n",
      "Error for {'heat_source_T': 19, 'cond_in_T': 50, 'Q_Demand': 11500.0} inputs\n",
      "Error for {'heat_source_T': 19, 'cond_in_T': 50, 'Q_Demand': 12000.0} inputs\n",
      "Error for {'heat_source_T': 19, 'cond_in_T': 50, 'Q_Demand': 12500.0} inputs\n",
      "Error for {'heat_source_T': 19, 'cond_in_T': 50, 'Q_Demand': 13000.0} inputs\n",
      "Error for {'heat_source_T': 19, 'cond_in_T': 50, 'Q_Demand': 13500.0} inputs\n",
      "Error for {'heat_source_T': 19, 'cond_in_T': 50, 'Q_Demand': 14000.0} inputs\n",
      "Error for {'heat_source_T': 19, 'cond_in_T': 50, 'Q_Demand': 14500.0} inputs\n",
      "Error for {'heat_source_T': 19, 'cond_in_T': 50, 'Q_Demand': 15000.0} inputs\n",
      "Error for {'heat_source_T': 19, 'cond_in_T': 50, 'Q_Demand': 15500.0} inputs\n",
      "Error for {'heat_source_T': 19, 'cond_in_T': 50, 'Q_Demand': 16000.0} inputs\n",
      "Error for {'heat_source_T': 19, 'cond_in_T': 50, 'Q_Demand': 16500.0} inputs\n",
      "Error for {'heat_source_T': 19, 'cond_in_T': 50, 'Q_Demand': 17000.0} inputs\n",
      "Error for {'heat_source_T': 19, 'cond_in_T': 50, 'Q_Demand': 17500.0} inputs\n"
     ]
    },
    {
     "name": "stderr",
     "output_type": "stream",
     "text": [
      "100%|██████████| 90/90 [16:25<00:00, 10.95s/it]"
     ]
    },
    {
     "name": "stdout",
     "output_type": "stream",
     "text": [
      "Error for {'heat_source_T': 19, 'cond_in_T': 50, 'Q_Demand': 18000.0} inputs\n"
     ]
    },
    {
     "name": "stderr",
     "output_type": "stream",
     "text": [
      "\n"
     ]
    }
   ],
   "source": [
    "i = 1\n",
    "total = len(T_amb_list)*len(cond_in_T_list)\n",
    "pbar = tqdm(total=total)\n",
    "for T_amb in T_amb_list:\n",
    "    final_dict[T_amb] = {}\n",
    "    for cond_in_T in cond_in_T_list:\n",
    "        heat_pump_1.heat_source_T = T_amb\n",
    "        heat_pump_1.cond_in_T = cond_in_T\n",
    "        heat_pump_1._etas_heatload_id()\n",
    "        heat_pump_1._design_hp()\n",
    "        heatload_list = np.arange(5000, heat_pump_1.heatload_des, 500)\n",
    "        save_dict = {}\n",
    "        for heatload in heatload_list:\n",
    "            inputs = {'heat_source_T': T_amb, 'cond_in_T': cond_in_T, 'Q_Demand': heatload}\n",
    "            heat_pump_1.step(inputs)\n",
    "            save_dict[heatload] = {'cond_m': heat_pump_1.cond_m, 'COP': heat_pump_1.COP}\n",
    "\n",
    "            if heat_pump_1.cond_m == 0 and heat_pump_1.COP == 0:\n",
    "                print(\"Error for {} inputs\".format(inputs))\n",
    "\n",
    "        final_dict[T_amb][cond_in_T] = save_dict\n",
    "        df.at[T_amb, cond_in_T] = save_dict\n",
    "        pbar.update()\n",
    "\n",
    "pbar.close()"
   ],
   "metadata": {
    "collapsed": false,
    "pycharm": {
     "name": "#%%\n"
    }
   }
  },
  {
   "cell_type": "code",
   "execution_count": 11,
   "outputs": [
    {
     "name": "stdout",
     "output_type": "stream",
     "text": [
      "{7: {47: {5000.0: {'cond_m': 0.6941216791831393, 'COP': 3.0582663963321286}, 5500.0: {'cond_m': 0.6941216791831393, 'COP': 3.010099708385097}, 6000.0: {'cond_m': 0.6941216791831393, 'COP': 2.963755801659261}, 6500.0: {'cond_m': 0.6941216791831393, 'COP': 2.9192835112142417}, 7000.0: {'cond_m': 0.6941216791831393, 'COP': 2.876491456657546}, 7500.0: {'cond_m': 0.6941216791831393, 'COP': 2.832381608047358}, 8000.0: {'cond_m': 0.6941216791831393, 'COP': 2.7891535723404397}, 8500.0: {'cond_m': 0.6941216791831393, 'COP': 2.7779551138416783}, 9000.0: {'cond_m': 0.6941216791831393, 'COP': 2.7874318297747944}, 9500.0: {'cond_m': 0.6941216791831393, 'COP': 2.794789717035178}, 10000.0: {'cond_m': 0.6941216791831393, 'COP': 2.7997941094660357}, 10500.0: {'cond_m': 0.6941216791831393, 'COP': 2.8020997262095197}, 11000.0: {'cond_m': 0.6941216791831393, 'COP': 2.8023041909044806}, 11500.0: {'cond_m': 0.6941216791831393, 'COP': 2.8001770530200782}, 12000.0: {'cond_m': 0.6941216791831393, 'COP': 2.7901816008707336}, 12500.0: {'cond_m': 0.6941216791831393, 'COP': 2.775723644789649}, 13000.0: {'cond_m': 0.6941216791831393, 'COP': 2.756059905652319}, 13500.0: {'cond_m': 0.6941216791831393, 'COP': 2.7270204448589364}, 14000.0: {'cond_m': 0.6941216791831393, 'COP': 2.688168989657271}, 14500.0: {'cond_m': 0.6941216791831393, 'COP': 2.6365343541490476}}, 48: {5000.0: {'cond_m': 0, 'COP': 0}, 5500.0: {'cond_m': 0, 'COP': 0}, 6000.0: {'cond_m': 0, 'COP': 0}, 6500.0: {'cond_m': 0, 'COP': 0}, 7000.0: {'cond_m': 0.6656727269070263, 'COP': 2.8696432586920335}, 7500.0: {'cond_m': 0.6656727269070263, 'COP': 2.8243143757622606}, 8000.0: {'cond_m': 0.6656727269070263, 'COP': 2.7770718306381155}, 8500.0: {'cond_m': 0.6656727269070263, 'COP': 2.7309177376636384}, 9000.0: {'cond_m': 0.6656727269070263, 'COP': 2.7191133920719723}, 9500.0: {'cond_m': 0.6656727269070263, 'COP': 2.72265508184437}, 10000.0: {'cond_m': 0.6656727269070263, 'COP': 2.7240616187470734}, 10500.0: {'cond_m': 0.6656727269070263, 'COP': 2.722974906834356}, 11000.0: {'cond_m': 0.6656727269070263, 'COP': 2.7192666294322243}, 11500.0: {'cond_m': 0.6656727269070263, 'COP': 2.713378171832964}, 12000.0: {'cond_m': 0.6656727269070263, 'COP': 2.7051895606404006}, 12500.0: {'cond_m': 0.6656727269070263, 'COP': 2.688362756621297}, 13000.0: {'cond_m': 0.6656727269070263, 'COP': 2.6663519587673616}, 13500.0: {'cond_m': 0.6656727269070263, 'COP': 2.637646716986747}}}}\n"
     ]
    }
   ],
   "source": [
    "print(final_dict)\n",
    "print(df)"
   ],
   "metadata": {
    "collapsed": false,
    "pycharm": {
     "name": "#%%\n"
    }
   }
  },
  {
   "cell_type": "code",
   "execution_count": null,
   "outputs": [],
   "source": [],
   "metadata": {
    "collapsed": false,
    "pycharm": {
     "name": "#%%\n"
    }
   }
  }
 ],
 "metadata": {
  "kernelspec": {
   "display_name": "Python 3",
   "language": "python",
   "name": "python3"
  },
  "language_info": {
   "codemirror_mode": {
    "name": "ipython",
    "version": 2
   },
   "file_extension": ".py",
   "mimetype": "text/x-python",
   "name": "python",
   "nbconvert_exporter": "python",
   "pygments_lexer": "ipython2",
   "version": "2.7.6"
  }
 },
 "nbformat": 4,
 "nbformat_minor": 0
}