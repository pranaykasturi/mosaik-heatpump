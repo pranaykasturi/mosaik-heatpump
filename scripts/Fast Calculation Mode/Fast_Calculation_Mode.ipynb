{
 "cells": [
  {
   "cell_type": "code",
   "execution_count": null,
   "outputs": [],
   "source": [
    "import json\n",
    "from mosaik_heatpump.heatpump.Heat_Pump_Des import Heat_Pump_Des\n",
    "import pandas as pd\n",
    "import numpy as np\n",
    "from tqdm import tqdm\n",
    "from tespy.tools import logger\n",
    "import logging\n",
    "logger.define_logging(log_path=True, log_version=True,\n",
    "                      screen_level=logging.ERROR,\n",
    "                      file_level=logging.DEBUG)"
   ],
   "metadata": {
    "collapsed": false,
    "pycharm": {
     "name": "#%%\n"
    }
   }
  },
  {
   "cell_type": "code",
   "execution_count": null,
   "outputs": [],
   "source": [
    "# Enter the name of the new heat pump model. Should match the name used in\n",
    "# the eta_s_data.json\n",
    "model_name = 'Air_30kW_fixed_evap_m'"
   ],
   "metadata": {
    "collapsed": false,
    "pycharm": {
     "name": "#%%\n"
    }
   }
  },
  {
   "cell_type": "code",
   "execution_count": null,
   "outputs": [],
   "source": [
    "params_air = {\n",
    "        'hp_model': model_name,\n",
    "        'heat_source': 'Air',\n",
    "        'heat_source_T': 7,\n",
    "        'cons_T': 35,\n",
    "        'Q_Demand':32500,\n",
    "        'calc_mode': 'detailed'\n",
    "    }\n",
    "\n",
    "heat_pump_1 = Heat_Pump_Des(params_air)"
   ],
   "metadata": {
    "collapsed": false,
    "pycharm": {
     "name": "#%%\n"
    }
   }
  },
  {
   "cell_type": "code",
   "execution_count": null,
   "outputs": [],
   "source": [
    "with open(\"../../mosaik_heatpump/heatpump/eta_s_data.json\") as feedsjson:\n",
    "    data_1 = json.load(feedsjson)\n",
    "\n",
    "etas_dict = data_1[heat_pump_1.hp_model]['eta_s']\n",
    "heatload_dict = data_1[heat_pump_1.hp_model]['heatload']\n",
    "\n",
    "T_min = min(list(map(int, etas_dict)))\n",
    "T_max = max(list(map(int, etas_dict)))\n",
    "# T_min = -7\n",
    "\n",
    "hl_min = data_1[heat_pump_1.hp_model]['min_heatload']\n",
    "hl_max = data_1[heat_pump_1.hp_model]['max_heatload']\n",
    "\n",
    "cons_T_min = min(list(map(int, etas_dict[str(T_max)])))\n",
    "cons_T_max = max(list(map(int, etas_dict[str(T_max)])))\n",
    "\n",
    "T_amb_list = np.arange(T_min, T_max+1, 1)\n",
    "cond_in_T_list = np.arange(cons_T_min-5, cons_T_max-4, 1)\n",
    "\n",
    "df = pd.DataFrame(index=T_amb_list, columns=cond_in_T_list)"
   ],
   "metadata": {
    "collapsed": false,
    "pycharm": {
     "name": "#%%\n"
    }
   }
  },
  {
   "cell_type": "code",
   "execution_count": null,
   "outputs": [],
   "source": [
    "pbar = tqdm(total=len(T_amb_list))\n",
    "\n",
    "for T_amb in T_amb_list:\n",
    "    pbar1 = tqdm(total=len(cond_in_T_list))\n",
    "    for cond_in_T in cond_in_T_list:\n",
    "        skip = False\n",
    "        heat_pump_1.heat_source_T = T_amb\n",
    "        heat_pump_1.cond_in_T = cond_in_T\n",
    "        heat_pump_1._etas_heatload_id()\n",
    "\n",
    "        if not heat_pump_1.skip_step:\n",
    "\n",
    "            try:\n",
    "                heat_pump_1._design_hp()\n",
    "            except:\n",
    "                print('Error for T_amb : {} & Cond_in_T : {}'.format(T_amb, cond_in_T))\n",
    "                skip = True\n",
    "\n",
    "            if (hl_min +500) < heat_pump_1.heatload_des:\n",
    "                heatload_list = np.arange(hl_min, heat_pump_1.heatload_des, 500)\n",
    "                if heatload_list[-1] < heat_pump_1.heatload_des:\n",
    "                    heatload_list = np.append(heatload_list, heat_pump_1.heatload_des)\n",
    "            else:\n",
    "                heatload_list = [heat_pump_1.heatload_des]\n",
    "\n",
    "            save_dict = {}\n",
    "\n",
    "            if skip is False:\n",
    "                for heatload in heatload_list:\n",
    "                    inputs = {'heat_source_T': T_amb, 'cond_in_T': cond_in_T, 'Q_Demand': heatload}\n",
    "\n",
    "                    try:\n",
    "                        heat_pump_1.step(inputs)\n",
    "                        save_dict[heatload] = {'cond_m': heat_pump_1.cond_m, 'COP': heat_pump_1.COP}\n",
    "                        if heat_pump_1.cond_m == 0 and heat_pump_1.COP == 0:\n",
    "                            print(\"Error for {} inputs\".format(inputs))\n",
    "                    except:\n",
    "                        print(\"Error for {} inputs\".format(inputs))\n",
    "                        save_dict[heatload] = {'cond_m': 0, 'COP': 0}\n",
    "            else:\n",
    "                # print(\"Error for {} inputs\".format(inputs))\n",
    "                for heatload in heatload_list:\n",
    "                    save_dict[heatload] = {'cond_m': 0, 'COP': 0}\n",
    "        else:\n",
    "            print('Skipping T_amb : {} & Cond_in_T : {}'.format(T_amb, cond_in_T))\n",
    "            save_dict = {}\n",
    "\n",
    "        df.at[T_amb, cond_in_T] = save_dict\n",
    "        pbar1.update()\n",
    "    pbar1.close()\n",
    "    pbar.update()\n",
    "\n",
    "pbar.close()"
   ],
   "metadata": {
    "collapsed": false,
    "pycharm": {
     "name": "#%%\n"
    }
   }
  },
  {
   "cell_type": "code",
   "execution_count": null,
   "outputs": [],
   "source": [
    "result = df.to_json(orient=\"index\")\n",
    "parsed = json.loads(result)\n",
    "json.dumps(parsed, indent=4)"
   ],
   "metadata": {
    "collapsed": false,
    "pycharm": {
     "name": "#%%\n"
    }
   }
  },
  {
   "cell_type": "code",
   "execution_count": null,
   "outputs": [],
   "source": [
    "with open(\"../../mosaik_heatpump/heatpump/COP_m_data.json\") as feedsjson:\n",
    "    feeds = json.load(feedsjson)\n",
    "\n",
    "if model_name in feeds.keys():\n",
    "    a = input('The model name already exists and must be replaced. Do you want to replace the data (y/n)? : ')\n",
    "    if a.lower() == 'y':\n",
    "        feeds[model_name]= parsed\n",
    "    elif a.lower() =='n':\n",
    "        model_name = input('Enter new model name')\n",
    "        feeds[model_name]= parsed\n",
    "    else:\n",
    "        print(\"Wrong input. Execute cell again.\")\n",
    "else:\n",
    "    feeds[model_name] = parsed"
   ],
   "metadata": {
    "collapsed": false,
    "pycharm": {
     "name": "#%%\n"
    }
   }
  },
  {
   "cell_type": "code",
   "execution_count": null,
   "outputs": [],
   "source": [
    "with open(\"../../mosaik_heatpump/heatpump/COP_m_data.json\", \"w\") as write_file:\n",
    "    json.dump(feeds, write_file, indent=4)"
   ],
   "metadata": {
    "collapsed": false,
    "pycharm": {
     "name": "#%%\n"
    }
   }
  },
  {
   "cell_type": "code",
   "execution_count": null,
   "outputs": [],
   "source": [],
   "metadata": {
    "collapsed": false,
    "pycharm": {
     "name": "#%%\n"
    }
   }
  }
 ],
 "metadata": {
  "kernelspec": {
   "display_name": "Python 3",
   "language": "python",
   "name": "python3"
  },
  "language_info": {
   "codemirror_mode": {
    "name": "ipython",
    "version": 2
   },
   "file_extension": ".py",
   "mimetype": "text/x-python",
   "name": "python",
   "nbconvert_exporter": "python",
   "pygments_lexer": "ipython2",
   "version": "2.7.6"
  }
 },
 "nbformat": 4,
 "nbformat_minor": 0
}