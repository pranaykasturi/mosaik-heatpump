{
 "cells": [
  {
   "cell_type": "markdown",
   "source": [
    "# Tutorial-1\n",
    "\n",
    "This tutorial explains the steps to be followed to generate the series of compressor\n",
    "efficiency ('eta_s') values for the design point data of a particular heat pump model.\n",
    "In this example, the data for Daikin's Air/Water Heat Pump (Model  ERLQ016CAV3) has been\n",
    "used.\n"
   ],
   "metadata": {
    "collapsed": false,
    "pycharm": {
     "name": "#%% md\n"
    }
   }
  },
  {
   "cell_type": "markdown",
   "source": [
    "### Parametrizing the model for the nominal capacity data\n",
    "\n",
    "Following the advice given in the documentation, the different components of the network\n",
    "have to be parametrized such that the compressor power calculated by the model matches that\n",
    "of the data sheet, for the nominal capacity data. For the heat pump model in this example, the\n",
    "heat load is 16.3 kW & the power required is 3.83 kW, at an ambient air temperature of 7 deg. C\n",
    "and heat supply temperature of 35 deg. C.\n",
    "\n",
    "Code: 'Parametrization_NominalData.py'\n",
    "\n",
    "The network solution for this case should be saved as it will be used in the following steps.\n",
    "The network is saved as 'Par_NominalData'.\n"
   ],
   "metadata": {
    "collapsed": false
   }
  },
  {
   "cell_type": "markdown",
   "source": [
    "### Setting up the input data files\n",
    "\n",
    "The data from the heating capacity tables should be available in csv format.\n",
    "The heating capacities (in kW) and power requirement (in kW) at the different evaporator\n",
    "and condenser temperatures should be available as shown in the 'Data\\Heat_Load_Data.csv' and\n",
    "'Data\\PI_Data.csv' respectively. The first row contains the condenser leaving temperatures\n",
    "and the first column contains the ambient temperature. The temperatures are in deg. C.\n"
   ],
   "metadata": {
    "collapsed": false
   }
  },
  {
   "cell_type": "code",
   "execution_count": 4,
   "metadata": {
    "collapsed": true
   },
   "outputs": [],
   "source": [
    "from tespy.networks import load_network\n",
    "import pandas as pd\n",
    "import numpy as np"
   ]
  },
  {
   "cell_type": "code",
   "execution_count": 5,
   "outputs": [],
   "source": [
    "# import the saved network with the initial parametrization data\n",
    "\n",
    "imported_plant = load_network('D:\\Projects\\mosaik-heatpump\\scripts\\Compressor Parametrization\\Par_NominalData')\n",
    "# imported_plant.solve('design')\n",
    "# imported_plant.print_results()"
   ],
   "metadata": {
    "collapsed": false,
    "pycharm": {
     "name": "#%%\n"
    }
   }
  },
  {
   "cell_type": "code",
   "execution_count": 6,
   "outputs": [
    {
     "name": "stdout",
     "output_type": "stream",
     "text": [
      "   T_amb     30     35     40     45     50     55\n",
      "0    -20   9.56   9.66   9.59   7.69    NaN    NaN\n",
      "1    -15  10.57  10.56   9.86   9.55   8.79    NaN\n",
      "2     -7  12.59  12.30  12.02  11.35  10.26   9.18\n",
      "3     -2  12.11  11.79  11.48  11.39  10.44   9.32\n",
      "4      2  11.74  11.40  11.07  11.37  11.04  10.29\n",
      "5      7  16.63  16.10  15.47  15.22  14.51  13.92\n",
      "6     12  17.34  16.74  16.13  15.76  15.13  14.51\n",
      "7     15  18.81  18.16  17.51  17.10  16.43  15.75\n",
      "8     20  21.49  20.77  20.04  19.59  18.83  18.07\n"
     ]
    }
   ],
   "source": [
    "#import the heat load data\n",
    "\n",
    "HL_Data_Path = 'D:\\Projects\\mosaik-heatpump\\scripts\\Compressor Parametrization\\Data\\Heat_Load_Data.csv'\n",
    "heat_load_data = pd.read_csv(HL_Data_Path, header=0, delimiter=',')\n",
    "print(heat_load_data)"
   ],
   "metadata": {
    "collapsed": false,
    "pycharm": {
     "name": "#%%\n"
    }
   }
  },
  {
   "cell_type": "code",
   "execution_count": 7,
   "outputs": [
    {
     "name": "stdout",
     "output_type": "stream",
     "text": [
      "   T_amb    30    35    40    45    50    55\n",
      "0    -20  5.67  6.07  6.40  6.38  0.00  0.00\n",
      "1    -15  5.84  6.28  6.30  6.34  6.38  0.00\n",
      "2     -7  5.07  5.49  5.95  6.34  6.37  6.37\n",
      "3     -2  4.32  4.71  5.15  5.63  5.86  5.86\n",
      "4      2  3.75  4.09  4.48  4.84  5.51  5.88\n",
      "5      7  3.55  3.83  4.26  4.71  5.17  5.71\n",
      "6     12  3.45  3.78  4.15  4.58  5.05  5.58\n",
      "7     15  3.45  3.78  4.16  4.58  5.06  5.59\n",
      "8     20  3.43  3.77  4.15  4.59  5.07  5.61\n"
     ]
    }
   ],
   "source": [
    "#import the power requirement data\n",
    "\n",
    "PI_Data_Path = 'D:\\Projects\\mosaik-heatpump\\scripts\\Compressor Parametrization\\Data\\PI_Data.csv'\n",
    "PI_data = pd.read_csv(PI_Data_Path, header=0, delimiter=',')\n",
    "print(PI_data)\n"
   ],
   "metadata": {
    "collapsed": false,
    "pycharm": {
     "name": "#%%\n"
    }
   }
  },
  {
   "cell_type": "code",
   "execution_count": 8,
   "outputs": [
    {
     "name": "stdout",
     "output_type": "stream",
     "text": [
      "   T_amb  30  35  40  45  50  55\n",
      "0    -20 NaN NaN NaN NaN NaN NaN\n",
      "1    -15 NaN NaN NaN NaN NaN NaN\n",
      "2     -7 NaN NaN NaN NaN NaN NaN\n",
      "3     -2 NaN NaN NaN NaN NaN NaN\n",
      "4      2 NaN NaN NaN NaN NaN NaN\n",
      "5      7 NaN NaN NaN NaN NaN NaN\n",
      "6     12 NaN NaN NaN NaN NaN NaN\n",
      "7     15 NaN NaN NaN NaN NaN NaN\n",
      "8     20 NaN NaN NaN NaN NaN NaN\n"
     ]
    }
   ],
   "source": [
    "# A DataFrame to save the power calculated by the model\n",
    "\n",
    "PI_Data_new= pd.DataFrame().reindex_like(PI_data)\n",
    "PI_Data_new['T_amb'] = PI_data['T_amb']\n",
    "print( PI_Data_new)"
   ],
   "metadata": {
    "collapsed": false,
    "pycharm": {
     "name": "#%%\n"
    }
   }
  },
  {
   "cell_type": "code",
   "execution_count": 9,
   "outputs": [
    {
     "name": "stdout",
     "output_type": "stream",
     "text": [
      "Index(['30', '35', '40', '45', '50', '55'], dtype='object')\n"
     ]
    }
   ],
   "source": [
    "# The Leaving Water Condenser (LWC) temperatures\n",
    "cols = heat_load_data.columns[1:]\n",
    "print(cols)"
   ],
   "metadata": {
    "collapsed": false,
    "pycharm": {
     "name": "#%%\n"
    }
   }
  },
  {
   "cell_type": "code",
   "execution_count": 10,
   "outputs": [],
   "source": [
    "# The range of values for the efficiency of the compressor from which the best\n",
    "# value is chosen\n",
    "etas_list = np.arange(0.2,1.3,0.01)"
   ],
   "metadata": {
    "collapsed": false,
    "pycharm": {
     "name": "#%%\n"
    }
   }
  },
  {
   "cell_type": "code",
   "execution_count": 11,
   "outputs": [
    {
     "name": "stdout",
     "output_type": "stream",
     "text": [
      "   T_amb  30  35  40  45  50  55\n",
      "0    -20 NaN NaN NaN NaN NaN NaN\n",
      "1    -15 NaN NaN NaN NaN NaN NaN\n",
      "2     -7 NaN NaN NaN NaN NaN NaN\n",
      "3     -2 NaN NaN NaN NaN NaN NaN\n",
      "4      2 NaN NaN NaN NaN NaN NaN\n",
      "5      7 NaN NaN NaN NaN NaN NaN\n",
      "6     12 NaN NaN NaN NaN NaN NaN\n",
      "7     15 NaN NaN NaN NaN NaN NaN\n",
      "8     20 NaN NaN NaN NaN NaN NaN\n"
     ]
    }
   ],
   "source": [
    "# A DataFrame to save the best efficiency values identified for each design point\n",
    "etas_data = pd.DataFrame().reindex_like(heat_load_data)\n",
    "etas_data['T_amb'] = heat_load_data['T_amb']\n",
    "print(etas_data)"
   ],
   "metadata": {
    "collapsed": false,
    "pycharm": {
     "name": "#%%\n"
    }
   }
  },
  {
   "cell_type": "code",
   "execution_count": 12,
   "outputs": [
    {
     "name": "stderr",
     "output_type": "stream",
     "text": [
      "WARNING:root:The solver does not seem to make any progress, aborting calculation. Residual value is 1.36e+02. This frequently happens, if the solver pushes the fluid properties out of their feasible range.\n",
      "WARNING:root:The solver does not seem to make any progress, aborting calculation. Residual value is 2.42e+03. This frequently happens, if the solver pushes the fluid properties out of their feasible range.\n",
      "WARNING:root:The solver does not seem to make any progress, aborting calculation. Residual value is 4.71e+03. This frequently happens, if the solver pushes the fluid properties out of their feasible range.\n",
      "WARNING:root:The solver does not seem to make any progress, aborting calculation. Residual value is 7.00e+03. This frequently happens, if the solver pushes the fluid properties out of their feasible range.\n",
      "WARNING:root:The solver does not seem to make any progress, aborting calculation. Residual value is 9.29e+03. This frequently happens, if the solver pushes the fluid properties out of their feasible range.\n",
      "WARNING:root:The solver does not seem to make any progress, aborting calculation. Residual value is 1.16e+04. This frequently happens, if the solver pushes the fluid properties out of their feasible range.\n",
      "WARNING:root:The solver does not seem to make any progress, aborting calculation. Residual value is 1.39e+04. This frequently happens, if the solver pushes the fluid properties out of their feasible range.\n",
      "WARNING:root:The solver does not seem to make any progress, aborting calculation. Residual value is 1.62e+04. This frequently happens, if the solver pushes the fluid properties out of their feasible range.\n",
      "WARNING:root:The solver does not seem to make any progress, aborting calculation. Residual value is 1.84e+04. This frequently happens, if the solver pushes the fluid properties out of their feasible range.\n",
      "WARNING:root:The solver does not seem to make any progress, aborting calculation. Residual value is 2.07e+04. This frequently happens, if the solver pushes the fluid properties out of their feasible range.\n",
      "WARNING:root:The solver does not seem to make any progress, aborting calculation. Residual value is 2.30e+04. This frequently happens, if the solver pushes the fluid properties out of their feasible range.\n",
      "WARNING:root:The solver does not seem to make any progress, aborting calculation. Residual value is 2.53e+04. This frequently happens, if the solver pushes the fluid properties out of their feasible range.\n",
      "WARNING:root:The solver does not seem to make any progress, aborting calculation. Residual value is 3.24e+02. This frequently happens, if the solver pushes the fluid properties out of their feasible range.\n",
      "WARNING:root:The solver does not seem to make any progress, aborting calculation. Residual value is 2.55e+03. This frequently happens, if the solver pushes the fluid properties out of their feasible range.\n",
      "WARNING:root:The solver does not seem to make any progress, aborting calculation. Residual value is 4.78e+03. This frequently happens, if the solver pushes the fluid properties out of their feasible range.\n",
      "WARNING:root:The solver does not seem to make any progress, aborting calculation. Residual value is 7.00e+03. This frequently happens, if the solver pushes the fluid properties out of their feasible range.\n",
      "WARNING:root:The solver does not seem to make any progress, aborting calculation. Residual value is 9.23e+03. This frequently happens, if the solver pushes the fluid properties out of their feasible range.\n",
      "WARNING:root:The solver does not seem to make any progress, aborting calculation. Residual value is 1.15e+04. This frequently happens, if the solver pushes the fluid properties out of their feasible range.\n",
      "WARNING:root:The solver does not seem to make any progress, aborting calculation. Residual value is 1.37e+04. This frequently happens, if the solver pushes the fluid properties out of their feasible range.\n",
      "WARNING:root:The solver does not seem to make any progress, aborting calculation. Residual value is 1.59e+04. This frequently happens, if the solver pushes the fluid properties out of their feasible range.\n",
      "WARNING:root:The solver does not seem to make any progress, aborting calculation. Residual value is 1.81e+04. This frequently happens, if the solver pushes the fluid properties out of their feasible range.\n",
      "WARNING:root:The solver does not seem to make any progress, aborting calculation. Residual value is 2.04e+04. This frequently happens, if the solver pushes the fluid properties out of their feasible range.\n",
      "WARNING:root:The solver does not seem to make any progress, aborting calculation. Residual value is 2.26e+04. This frequently happens, if the solver pushes the fluid properties out of their feasible range.\n",
      "WARNING:root:The solver does not seem to make any progress, aborting calculation. Residual value is 2.48e+04. This frequently happens, if the solver pushes the fluid properties out of their feasible range.\n",
      "WARNING:root:The solver does not seem to make any progress, aborting calculation. Residual value is 2.71e+04. This frequently happens, if the solver pushes the fluid properties out of their feasible range.\n"
     ]
    }
   ],
   "source": [
    "for i in range(9):\n",
    "    T_amb = heat_load_data['T_amb'][i] # The ambient temperature temperature\n",
    "    k = 30 # index for moving within etas_list\n",
    "    for j in cols:\n",
    "        LWC = float(j) # The Leaving Water Condenser (LWC) temperature\n",
    "        HL = float(heat_load_data[j][i]*1000) # Heat Load in W\n",
    "\n",
    "        l=1\n",
    "        if  not np.isnan(HL):\n",
    "            # print ('row: %d , column: %s'%(i,j))\n",
    "            # The display of iteration info during network solving is turned off\n",
    "            imported_plant.set_attr(iterinfo=False)\n",
    "\n",
    "            # A temperature difference of 5 deg.C is assumed across the condenser\n",
    "            imported_plant.get_conn('condenser:out2_consumer:in1').T.val= LWC\n",
    "            imported_plant.get_conn('consumer cycle closer:out1_condenser recirculation pump:in1').T.val =LWC-5\n",
    "\n",
    "            # A temperature difference of 5 deg.C is assumed across the evaporator\n",
    "            imported_plant.get_conn('source ambient:out1_ambient pump:in1').T.val=T_amb\n",
    "            imported_plant.get_conn('evaporator:out1_sink ambient:in1').T.val= T_amb - 5\n",
    "\n",
    "            # The heat load is set\n",
    "            imported_plant.get_comp('consumer').set_attr(Q=-HL)\n",
    "\n",
    "            # print(\"row: %d, column: %s\" %(i,j))\n",
    "\n",
    "            # The efficiency value for the compressor that gives the power closest\n",
    "            # to the power from the data sheet is found\n",
    "            while 0 <= k < len(etas_list):\n",
    "\n",
    "                imported_plant.get_comp('compressor').eta_s.val = etas_list[k]\n",
    "                imported_plant.solve('design')\n",
    "\n",
    "                P_new = imported_plant.get_comp('compressor').P.val/1000\n",
    "\n",
    "                P_new_dif = P_new - PI_data.loc[i, j]\n",
    "\n",
    "                if abs(P_new_dif) > 0.05:\n",
    "\n",
    "                    if P_new_dif < 0:\n",
    "                        k -= 1\n",
    "                    else:\n",
    "                        k += 1\n",
    "\n",
    "                elif abs(P_new_dif) <= 0.05 and P_new_dif < 0:\n",
    "                    # print(\"entering 2nd condition: %d time\" %l)\n",
    "                    k -= 1\n",
    "                    P_old = P_new\n",
    "                    P_old_dif = P_new_dif\n",
    "                    # print(P_old, P_old_dif)\n",
    "                    imported_plant.get_comp('compressor').eta_s.val = etas_list[k]\n",
    "                    imported_plant.solve('design')\n",
    "                    P_new = imported_plant.get_comp('compressor').P.val/1000\n",
    "                    P_new_dif = P_new - PI_data.loc[i, j]\n",
    "                    # print(P_new, P_new_dif)\n",
    "                    if round(abs(P_new_dif),2) <= round(abs(P_old_dif),2):\n",
    "                        # print(\"entering 2-1 condition\")\n",
    "                        PI_Data_new.loc[i,j] = P_new\n",
    "                        etas_data.loc[i,j] = etas_list[k]\n",
    "                    else:\n",
    "                        # print(\"entering 2-2 condition\")\n",
    "                        k += 1\n",
    "                        PI_Data_new.loc[i,j] = P_old\n",
    "                        etas_data.loc[i,j] = etas_list[k]\n",
    "                    # print(PI_Data_new[j][i], etas_data[j][i])\n",
    "                    break\n",
    "\n",
    "                elif abs(P_new_dif)<=0.05 and P_new_dif > 0:\n",
    "                    # print(\"entering 3rd condition: %d time\" %l)\n",
    "                    k += 1\n",
    "                    P_old = P_new\n",
    "                    P_old_dif = P_new_dif\n",
    "                    imported_plant.get_comp('compressor').eta_s.val = etas_list[k]\n",
    "                    imported_plant.solve('design')\n",
    "                    P_new = imported_plant.get_comp('compressor').P.val/1000\n",
    "                    P_new_dif = P_new - PI_data.loc[i,j]\n",
    "                    if round(abs(P_new_dif),2) < round(abs(P_old_dif),2):\n",
    "                        PI_Data_new.loc[i,j] = P_new\n",
    "                        etas_data.loc[i,j] = etas_list[k]\n",
    "                    else:\n",
    "                        k -= 1\n",
    "                        PI_Data_new.loc[i,j] = P_old\n",
    "                        etas_data.loc[i,j] = etas_list[k]\n",
    "                    # print(PI_Data_new[j][i], etas_data[j][i])\n",
    "                    break\n",
    "\n",
    "        else:\n",
    "            etas_data.loc[i,j] = np.nan"
   ],
   "metadata": {
    "collapsed": false,
    "pycharm": {
     "name": "#%%\n"
    }
   }
  },
  {
   "cell_type": "code",
   "execution_count": 13,
   "outputs": [
    {
     "name": "stdout",
     "output_type": "stream",
     "text": [
      "   T_amb    30    35    40    45    50    55\n",
      "0    -20  0.32  0.31   NaN   NaN   NaN   NaN\n",
      "1    -15  0.33  0.32  0.31  0.32   NaN   NaN\n",
      "2     -7  0.50  0.48  0.46  0.42  0.39  0.38\n",
      "3     -2  0.53  0.52  0.49  0.48  0.45  0.45\n",
      "4      2  0.56  0.55  0.53  0.58  0.52  0.52\n",
      "5      7  0.84  0.86  0.83  0.84  0.83  0.88\n",
      "6     12  0.78  0.80  0.80  0.81  0.81  0.87\n",
      "7     15  0.78  0.80  0.81  0.83  0.84  0.91\n",
      "8     20  0.77  0.81  0.83  0.86  0.89  0.98\n"
     ]
    }
   ],
   "source": [
    "print(etas_data)\n"
   ],
   "metadata": {
    "collapsed": false,
    "pycharm": {
     "name": "#%%\n"
    }
   }
  },
  {
   "cell_type": "code",
   "execution_count": 14,
   "outputs": [],
   "source": [
    "etas_data.to_csv('parametrization_etas_R1.csv')"
   ],
   "metadata": {
    "collapsed": false,
    "pycharm": {
     "name": "#%%\n"
    }
   }
  },
  {
   "cell_type": "code",
   "execution_count": 30,
   "outputs": [
    {
     "name": "stdout",
     "output_type": "stream",
     "text": [
      "   T_amb        30        35        40        45        50        55\n",
      "0      0 -0.013585  0.018227       NaN       NaN       NaN       NaN\n",
      "1      0  0.026956  0.006635 -0.028411 -0.001857       NaN       NaN\n",
      "2      0  0.000112  0.011026 -0.009163 -0.028930  0.031091 -0.013404\n",
      "3      0  0.012685  0.024481 -0.004496 -0.010481 -0.007206 -0.019648\n",
      "4      0  0.012538  0.001952 -0.003342  0.010880  0.013443  0.013513\n",
      "5      0 -0.001280 -0.003390  0.001563  0.018034 -0.012934 -0.009218\n",
      "6      0  0.008513  0.011554  0.012050  0.002021  0.023202  0.017909\n",
      "7      0  0.003400  0.004166 -0.008179  0.023189 -0.008295 -0.009174\n",
      "8      0 -0.010539  0.011414  0.024793  0.020206  0.013430  0.003969\n"
     ]
    }
   ],
   "source": [
    "print(PI_Data_new - PI_data)"
   ],
   "metadata": {
    "collapsed": false,
    "pycharm": {
     "name": "#%%\n"
    }
   }
  },
  {
   "cell_type": "code",
   "execution_count": null,
   "outputs": [],
   "source": [
    "#Convert it to json? or some other type?\n"
   ],
   "metadata": {
    "collapsed": false,
    "pycharm": {
     "name": "#%%\n"
    }
   }
  }
 ],
 "metadata": {
  "kernelspec": {
   "display_name": "Python 3",
   "language": "python",
   "name": "python3"
  },
  "language_info": {
   "codemirror_mode": {
    "name": "ipython",
    "version": 2
   },
   "file_extension": ".py",
   "mimetype": "text/x-python",
   "name": "python",
   "nbconvert_exporter": "python",
   "pygments_lexer": "ipython2",
   "version": "2.7.6"
  }
 },
 "nbformat": 4,
 "nbformat_minor": 0
}